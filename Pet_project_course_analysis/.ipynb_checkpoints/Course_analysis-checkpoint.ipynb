{
 "cells": [
  {
   "cell_type": "markdown",
   "metadata": {},
   "source": [
    "# `Итоговый проект. Анализ сайта образовательных курсов`"
   ]
  },
  {
   "cell_type": "markdown",
   "metadata": {},
   "source": [
    "By Lidya Mitskovets"
   ]
  },
  {
   "cell_type": "markdown",
   "metadata": {},
   "source": [
    "### Осуществим подготовку данных"
   ]
  },
  {
   "cell_type": "markdown",
   "metadata": {},
   "source": [
    "groups.csv - файл с информацией о принадлежности пользователя к контрольной или экспериментальной группе (А – контроль, B – целевая группа) \n",
    "\n",
    "groups_add.csv - дополнительный файл с пользователями, который прислали спустя 2 дня после передачи данных \n",
    "\n",
    "active_studs.csv - файл с информацией о пользователях, которые зашли на платформу в дни проведения эксперимента. \n",
    "\n",
    "checks.csv - файл с информацией об оплатах пользователей в дни проведения эксперимента. "
   ]
  },
  {
   "cell_type": "code",
   "execution_count": 1,
   "metadata": {},
   "outputs": [],
   "source": [
    "# подключение библиотек \n",
    "\n",
    "import pandas as pd \n",
    "import pandahouse as ph\n",
    "import requests\n",
    "from urllib.parse import urlencode\n",
    "import json\n",
    "import matplotlib.pyplot as plt\n",
    "from scipy.stats import norm, mannwhitneyu, chi2_contingency\n",
    "import numpy as np\n",
    "from tqdm.auto import tqdm\n",
    "import seaborn as sns\n",
    "\n",
    "plt.style.use('ggplot')"
   ]
  },
  {
   "cell_type": "code",
   "execution_count": 2,
   "metadata": {},
   "outputs": [],
   "source": [
    "# счивание .csv файлов с Яндекс диска\n",
    "\n",
    "base_url = 'https://cloud-api.yandex.net/v1/disk/public/resources/download?'\n",
    "public_key_groups = 'https://disk.yandex.ru/d/58Us0DWOzuWAjg'  \n",
    "public_key_active_studs = 'https://disk.yandex.ru/d/prbgU-rZpiXVYg'\n",
    "public_key_checks = 'https://disk.yandex.ru/d/84hTmELphW2sqQ'\n",
    "\n",
    "final_url_groups = base_url + urlencode(dict(public_key=public_key_groups))   # формирование url \n",
    "response_groups = requests.get(final_url_groups)   # запрос на извлечение данных по указанному url\n",
    "download_url_groups = json.loads(response_groups.text)['href']   # парсинг данных \n",
    "groups = pd.read_csv(download_url_groups, sep=';')   # считывание данных в формате dataframe\n",
    "\n",
    "final_url_active_studs = base_url + urlencode(dict(public_key=public_key_active_studs))\n",
    "response_active_studs = requests.get(final_url_active_studs)\n",
    "download_url_active_studs = json.loads(response_active_studs.text)['href']\n",
    "active_studs = pd.read_csv(download_url_active_studs, sep=';')\n",
    "\n",
    "final_url_checks = base_url + urlencode(dict(public_key=public_key_checks))\n",
    "response_checks = requests.get(final_url_checks)\n",
    "download_url_checks = json.loads(response_checks.text)['href']\n",
    "checks = pd.read_csv(download_url_checks, sep=';')"
   ]
  },
  {
   "cell_type": "code",
   "execution_count": 3,
   "metadata": {},
   "outputs": [
    {
     "data": {
      "text/html": [
       "<div>\n",
       "<style scoped>\n",
       "    .dataframe tbody tr th:only-of-type {\n",
       "        vertical-align: middle;\n",
       "    }\n",
       "\n",
       "    .dataframe tbody tr th {\n",
       "        vertical-align: top;\n",
       "    }\n",
       "\n",
       "    .dataframe thead th {\n",
       "        text-align: right;\n",
       "    }\n",
       "</style>\n",
       "<table border=\"1\" class=\"dataframe\">\n",
       "  <thead>\n",
       "    <tr style=\"text-align: right;\">\n",
       "      <th></th>\n",
       "      <th>id</th>\n",
       "      <th>grp</th>\n",
       "    </tr>\n",
       "  </thead>\n",
       "  <tbody>\n",
       "    <tr>\n",
       "      <th>0</th>\n",
       "      <td>1489</td>\n",
       "      <td>B</td>\n",
       "    </tr>\n",
       "    <tr>\n",
       "      <th>1</th>\n",
       "      <td>1627</td>\n",
       "      <td>A</td>\n",
       "    </tr>\n",
       "    <tr>\n",
       "      <th>2</th>\n",
       "      <td>1768</td>\n",
       "      <td>B</td>\n",
       "    </tr>\n",
       "    <tr>\n",
       "      <th>3</th>\n",
       "      <td>1783</td>\n",
       "      <td>B</td>\n",
       "    </tr>\n",
       "    <tr>\n",
       "      <th>4</th>\n",
       "      <td>1794</td>\n",
       "      <td>A</td>\n",
       "    </tr>\n",
       "  </tbody>\n",
       "</table>\n",
       "</div>"
      ],
      "text/plain": [
       "     id grp\n",
       "0  1489   B\n",
       "1  1627   A\n",
       "2  1768   B\n",
       "3  1783   B\n",
       "4  1794   A"
      ]
     },
     "execution_count": 3,
     "metadata": {},
     "output_type": "execute_result"
    }
   ],
   "source": [
    "# просмотр данных\n",
    "groups.head()"
   ]
  },
  {
   "cell_type": "code",
   "execution_count": 4,
   "metadata": {},
   "outputs": [
    {
     "name": "stdout",
     "output_type": "stream",
     "text": [
      "<class 'pandas.core.frame.DataFrame'>\n",
      "RangeIndex: 74484 entries, 0 to 74483\n",
      "Data columns (total 2 columns):\n",
      " #   Column  Non-Null Count  Dtype \n",
      "---  ------  --------------  ----- \n",
      " 0   id      74484 non-null  int64 \n",
      " 1   grp     74484 non-null  object\n",
      "dtypes: int64(1), object(1)\n",
      "memory usage: 1.1+ MB\n"
     ]
    }
   ],
   "source": [
    "# вывод общей информации о данных\n",
    "groups.info()"
   ]
  },
  {
   "cell_type": "code",
   "execution_count": 5,
   "metadata": {},
   "outputs": [],
   "source": [
    "# приведение к нужному типу данных\n",
    "groups = groups.astype({'id': 'string', 'grp': 'string'})"
   ]
  },
  {
   "cell_type": "code",
   "execution_count": 6,
   "metadata": {},
   "outputs": [
    {
     "data": {
      "text/html": [
       "<div>\n",
       "<style scoped>\n",
       "    .dataframe tbody tr th:only-of-type {\n",
       "        vertical-align: middle;\n",
       "    }\n",
       "\n",
       "    .dataframe tbody tr th {\n",
       "        vertical-align: top;\n",
       "    }\n",
       "\n",
       "    .dataframe thead th {\n",
       "        text-align: right;\n",
       "    }\n",
       "</style>\n",
       "<table border=\"1\" class=\"dataframe\">\n",
       "  <thead>\n",
       "    <tr style=\"text-align: right;\">\n",
       "      <th></th>\n",
       "      <th>student_id</th>\n",
       "    </tr>\n",
       "  </thead>\n",
       "  <tbody>\n",
       "    <tr>\n",
       "      <th>0</th>\n",
       "      <td>581585</td>\n",
       "    </tr>\n",
       "    <tr>\n",
       "      <th>1</th>\n",
       "      <td>5723133</td>\n",
       "    </tr>\n",
       "    <tr>\n",
       "      <th>2</th>\n",
       "      <td>3276743</td>\n",
       "    </tr>\n",
       "    <tr>\n",
       "      <th>3</th>\n",
       "      <td>4238589</td>\n",
       "    </tr>\n",
       "    <tr>\n",
       "      <th>4</th>\n",
       "      <td>4475369</td>\n",
       "    </tr>\n",
       "  </tbody>\n",
       "</table>\n",
       "</div>"
      ],
      "text/plain": [
       "   student_id\n",
       "0      581585\n",
       "1     5723133\n",
       "2     3276743\n",
       "3     4238589\n",
       "4     4475369"
      ]
     },
     "execution_count": 6,
     "metadata": {},
     "output_type": "execute_result"
    }
   ],
   "source": [
    "active_studs.head()"
   ]
  },
  {
   "cell_type": "code",
   "execution_count": 7,
   "metadata": {},
   "outputs": [
    {
     "name": "stdout",
     "output_type": "stream",
     "text": [
      "<class 'pandas.core.frame.DataFrame'>\n",
      "RangeIndex: 8341 entries, 0 to 8340\n",
      "Data columns (total 1 columns):\n",
      " #   Column      Non-Null Count  Dtype\n",
      "---  ------      --------------  -----\n",
      " 0   student_id  8341 non-null   int64\n",
      "dtypes: int64(1)\n",
      "memory usage: 65.3 KB\n"
     ]
    }
   ],
   "source": [
    "active_studs.info()"
   ]
  },
  {
   "cell_type": "code",
   "execution_count": 8,
   "metadata": {},
   "outputs": [],
   "source": [
    "active_studs = active_studs.astype({'student_id': 'string'})\\\n",
    "                           .rename(columns={'student_id': 'id'})"
   ]
  },
  {
   "cell_type": "code",
   "execution_count": 9,
   "metadata": {},
   "outputs": [],
   "source": [
    "# данное сохранение понадобится для 3-го задания\n",
    "active_studs_add = active_studs"
   ]
  },
  {
   "cell_type": "code",
   "execution_count": 10,
   "metadata": {},
   "outputs": [],
   "source": [
    "# дополнение таблицы active_studs данными из таблицы groups\n",
    "active_studs = active_studs.merge(groups, how='left', on='id')"
   ]
  },
  {
   "cell_type": "code",
   "execution_count": 11,
   "metadata": {},
   "outputs": [
    {
     "data": {
      "text/html": [
       "<div>\n",
       "<style scoped>\n",
       "    .dataframe tbody tr th:only-of-type {\n",
       "        vertical-align: middle;\n",
       "    }\n",
       "\n",
       "    .dataframe tbody tr th {\n",
       "        vertical-align: top;\n",
       "    }\n",
       "\n",
       "    .dataframe thead th {\n",
       "        text-align: right;\n",
       "    }\n",
       "</style>\n",
       "<table border=\"1\" class=\"dataframe\">\n",
       "  <thead>\n",
       "    <tr style=\"text-align: right;\">\n",
       "      <th></th>\n",
       "      <th>id</th>\n",
       "      <th>grp</th>\n",
       "    </tr>\n",
       "  </thead>\n",
       "  <tbody>\n",
       "    <tr>\n",
       "      <th>0</th>\n",
       "      <td>581585</td>\n",
       "      <td>A</td>\n",
       "    </tr>\n",
       "    <tr>\n",
       "      <th>1</th>\n",
       "      <td>5723133</td>\n",
       "      <td>&lt;NA&gt;</td>\n",
       "    </tr>\n",
       "    <tr>\n",
       "      <th>2</th>\n",
       "      <td>3276743</td>\n",
       "      <td>B</td>\n",
       "    </tr>\n",
       "    <tr>\n",
       "      <th>3</th>\n",
       "      <td>4238589</td>\n",
       "      <td>A</td>\n",
       "    </tr>\n",
       "    <tr>\n",
       "      <th>4</th>\n",
       "      <td>4475369</td>\n",
       "      <td>B</td>\n",
       "    </tr>\n",
       "  </tbody>\n",
       "</table>\n",
       "</div>"
      ],
      "text/plain": [
       "        id   grp\n",
       "0   581585     A\n",
       "1  5723133  <NA>\n",
       "2  3276743     B\n",
       "3  4238589     A\n",
       "4  4475369     B"
      ]
     },
     "execution_count": 11,
     "metadata": {},
     "output_type": "execute_result"
    }
   ],
   "source": [
    "active_studs.head()"
   ]
  },
  {
   "cell_type": "code",
   "execution_count": 12,
   "metadata": {},
   "outputs": [
    {
     "data": {
      "text/plain": [
       "(8341, 2)"
      ]
     },
     "execution_count": 12,
     "metadata": {},
     "output_type": "execute_result"
    }
   ],
   "source": [
    "active_studs.shape"
   ]
  },
  {
   "cell_type": "code",
   "execution_count": 13,
   "metadata": {},
   "outputs": [
    {
     "data": {
      "text/plain": [
       "id      0\n",
       "grp    13\n",
       "dtype: int64"
      ]
     },
     "execution_count": 13,
     "metadata": {},
     "output_type": "execute_result"
    }
   ],
   "source": [
    "# просмотр количества нулевых элементов в столбцах\n",
    "active_studs.isna().sum()"
   ]
  },
  {
   "cell_type": "code",
   "execution_count": 14,
   "metadata": {},
   "outputs": [],
   "source": [
    "# удаление id пользователей, которые не участвуют в эксперименте \n",
    "active_studs = active_studs.fillna(\"0\").query('grp != \"0\"')"
   ]
  },
  {
   "cell_type": "code",
   "execution_count": 15,
   "metadata": {},
   "outputs": [
    {
     "data": {
      "text/plain": [
       "(8328, 2)"
      ]
     },
     "execution_count": 15,
     "metadata": {},
     "output_type": "execute_result"
    }
   ],
   "source": [
    "active_studs.shape"
   ]
  },
  {
   "cell_type": "code",
   "execution_count": 16,
   "metadata": {},
   "outputs": [
    {
     "data": {
      "text/html": [
       "<div>\n",
       "<style scoped>\n",
       "    .dataframe tbody tr th:only-of-type {\n",
       "        vertical-align: middle;\n",
       "    }\n",
       "\n",
       "    .dataframe tbody tr th {\n",
       "        vertical-align: top;\n",
       "    }\n",
       "\n",
       "    .dataframe thead th {\n",
       "        text-align: right;\n",
       "    }\n",
       "</style>\n",
       "<table border=\"1\" class=\"dataframe\">\n",
       "  <thead>\n",
       "    <tr style=\"text-align: right;\">\n",
       "      <th></th>\n",
       "      <th>student_id</th>\n",
       "      <th>rev</th>\n",
       "    </tr>\n",
       "  </thead>\n",
       "  <tbody>\n",
       "    <tr>\n",
       "      <th>0</th>\n",
       "      <td>1627</td>\n",
       "      <td>990.0</td>\n",
       "    </tr>\n",
       "    <tr>\n",
       "      <th>1</th>\n",
       "      <td>3185</td>\n",
       "      <td>690.0</td>\n",
       "    </tr>\n",
       "    <tr>\n",
       "      <th>2</th>\n",
       "      <td>25973</td>\n",
       "      <td>690.0</td>\n",
       "    </tr>\n",
       "    <tr>\n",
       "      <th>3</th>\n",
       "      <td>26280</td>\n",
       "      <td>690.0</td>\n",
       "    </tr>\n",
       "    <tr>\n",
       "      <th>4</th>\n",
       "      <td>100300</td>\n",
       "      <td>990.0</td>\n",
       "    </tr>\n",
       "  </tbody>\n",
       "</table>\n",
       "</div>"
      ],
      "text/plain": [
       "   student_id    rev\n",
       "0        1627  990.0\n",
       "1        3185  690.0\n",
       "2       25973  690.0\n",
       "3       26280  690.0\n",
       "4      100300  990.0"
      ]
     },
     "execution_count": 16,
     "metadata": {},
     "output_type": "execute_result"
    }
   ],
   "source": [
    "checks.head()"
   ]
  },
  {
   "cell_type": "code",
   "execution_count": 17,
   "metadata": {},
   "outputs": [
    {
     "name": "stdout",
     "output_type": "stream",
     "text": [
      "<class 'pandas.core.frame.DataFrame'>\n",
      "RangeIndex: 541 entries, 0 to 540\n",
      "Data columns (total 2 columns):\n",
      " #   Column      Non-Null Count  Dtype  \n",
      "---  ------      --------------  -----  \n",
      " 0   student_id  541 non-null    int64  \n",
      " 1   rev         541 non-null    float64\n",
      "dtypes: float64(1), int64(1)\n",
      "memory usage: 8.6 KB\n"
     ]
    }
   ],
   "source": [
    "checks.info()"
   ]
  },
  {
   "cell_type": "code",
   "execution_count": 18,
   "metadata": {},
   "outputs": [],
   "source": [
    "checks = checks.astype({'student_id': 'string'})\\\n",
    "               .rename(columns={'student_id': 'id'})"
   ]
  },
  {
   "cell_type": "code",
   "execution_count": 19,
   "metadata": {},
   "outputs": [],
   "source": [
    "# данное сохранение понадобится для 3-го задания\n",
    "checks_add = checks"
   ]
  },
  {
   "cell_type": "code",
   "execution_count": 20,
   "metadata": {},
   "outputs": [],
   "source": [
    "checks = checks.merge(groups, how='left', on='id')"
   ]
  },
  {
   "cell_type": "code",
   "execution_count": 21,
   "metadata": {},
   "outputs": [
    {
     "data": {
      "text/plain": [
       "id     0\n",
       "rev    0\n",
       "grp    1\n",
       "dtype: int64"
      ]
     },
     "execution_count": 21,
     "metadata": {},
     "output_type": "execute_result"
    }
   ],
   "source": [
    "checks.isna().sum()"
   ]
  },
  {
   "cell_type": "code",
   "execution_count": 22,
   "metadata": {},
   "outputs": [
    {
     "data": {
      "text/html": [
       "<div>\n",
       "<style scoped>\n",
       "    .dataframe tbody tr th:only-of-type {\n",
       "        vertical-align: middle;\n",
       "    }\n",
       "\n",
       "    .dataframe tbody tr th {\n",
       "        vertical-align: top;\n",
       "    }\n",
       "\n",
       "    .dataframe thead th {\n",
       "        text-align: right;\n",
       "    }\n",
       "</style>\n",
       "<table border=\"1\" class=\"dataframe\">\n",
       "  <thead>\n",
       "    <tr style=\"text-align: right;\">\n",
       "      <th></th>\n",
       "      <th>id</th>\n",
       "      <th>rev</th>\n",
       "      <th>grp</th>\n",
       "    </tr>\n",
       "  </thead>\n",
       "  <tbody>\n",
       "    <tr>\n",
       "      <th>540</th>\n",
       "      <td>5740903</td>\n",
       "      <td>1900.0</td>\n",
       "      <td>0</td>\n",
       "    </tr>\n",
       "  </tbody>\n",
       "</table>\n",
       "</div>"
      ],
      "text/plain": [
       "          id     rev grp\n",
       "540  5740903  1900.0   0"
      ]
     },
     "execution_count": 22,
     "metadata": {},
     "output_type": "execute_result"
    }
   ],
   "source": [
    "# выявление пользователя, который не участвует в эксперименте \n",
    "checks.fillna(\"0\").query('grp == \"0\"')"
   ]
  },
  {
   "cell_type": "code",
   "execution_count": 23,
   "metadata": {},
   "outputs": [],
   "source": [
    "# удаление id пользователя, который не участвует в эксперименте \n",
    "checks = checks.fillna(\"0\").query('grp != \"0\"')"
   ]
  },
  {
   "cell_type": "code",
   "execution_count": 24,
   "metadata": {},
   "outputs": [
    {
     "data": {
      "text/html": [
       "<div>\n",
       "<style scoped>\n",
       "    .dataframe tbody tr th:only-of-type {\n",
       "        vertical-align: middle;\n",
       "    }\n",
       "\n",
       "    .dataframe tbody tr th {\n",
       "        vertical-align: top;\n",
       "    }\n",
       "\n",
       "    .dataframe thead th {\n",
       "        text-align: right;\n",
       "    }\n",
       "</style>\n",
       "<table border=\"1\" class=\"dataframe\">\n",
       "  <thead>\n",
       "    <tr style=\"text-align: right;\">\n",
       "      <th></th>\n",
       "      <th>id</th>\n",
       "      <th>rev</th>\n",
       "      <th>grp</th>\n",
       "    </tr>\n",
       "  </thead>\n",
       "  <tbody>\n",
       "    <tr>\n",
       "      <th>0</th>\n",
       "      <td>1627</td>\n",
       "      <td>990.0</td>\n",
       "      <td>A</td>\n",
       "    </tr>\n",
       "    <tr>\n",
       "      <th>1</th>\n",
       "      <td>3185</td>\n",
       "      <td>690.0</td>\n",
       "      <td>B</td>\n",
       "    </tr>\n",
       "    <tr>\n",
       "      <th>2</th>\n",
       "      <td>25973</td>\n",
       "      <td>690.0</td>\n",
       "      <td>B</td>\n",
       "    </tr>\n",
       "    <tr>\n",
       "      <th>3</th>\n",
       "      <td>26280</td>\n",
       "      <td>690.0</td>\n",
       "      <td>B</td>\n",
       "    </tr>\n",
       "    <tr>\n",
       "      <th>4</th>\n",
       "      <td>100300</td>\n",
       "      <td>990.0</td>\n",
       "      <td>B</td>\n",
       "    </tr>\n",
       "  </tbody>\n",
       "</table>\n",
       "</div>"
      ],
      "text/plain": [
       "       id    rev grp\n",
       "0    1627  990.0   A\n",
       "1    3185  690.0   B\n",
       "2   25973  690.0   B\n",
       "3   26280  690.0   B\n",
       "4  100300  990.0   B"
      ]
     },
     "execution_count": 24,
     "metadata": {},
     "output_type": "execute_result"
    }
   ],
   "source": [
    "checks.head()"
   ]
  },
  {
   "cell_type": "code",
   "execution_count": 25,
   "metadata": {},
   "outputs": [
    {
     "data": {
      "text/plain": [
       "149"
      ]
     },
     "execution_count": 25,
     "metadata": {},
     "output_type": "execute_result"
    }
   ],
   "source": [
    "# проверка на совпадение множества активных пользователей в этот день и на покупающих пользователей.\n",
    "# если запись пользователей верна, то разница будет 0\n",
    "checks_id_list = checks.id.to_list()\n",
    "active_studs_id_list = active_studs.id.to_list()\n",
    "new_activ = list(set(checks_id_list) - set(active_studs_id_list))\n",
    "len(new_activ)"
   ]
  },
  {
   "cell_type": "code",
   "execution_count": 26,
   "metadata": {},
   "outputs": [
    {
     "data": {
      "text/plain": [
       "str"
      ]
     },
     "execution_count": 26,
     "metadata": {},
     "output_type": "execute_result"
    }
   ],
   "source": [
    "type(new_activ[0])"
   ]
  },
  {
   "cell_type": "markdown",
   "metadata": {},
   "source": [
    "Проверка выявила пользователей, которые купили курс в данный промежуток времени, но не были зафиксированны как посещающие сайт. Это говорит об **ошибке в программе записи пользователей, посещающих сайт**. Добавим эти id в список id активных пользователей."
   ]
  },
  {
   "cell_type": "code",
   "execution_count": 27,
   "metadata": {},
   "outputs": [
    {
     "data": {
      "text/html": [
       "<div>\n",
       "<style scoped>\n",
       "    .dataframe tbody tr th:only-of-type {\n",
       "        vertical-align: middle;\n",
       "    }\n",
       "\n",
       "    .dataframe tbody tr th {\n",
       "        vertical-align: top;\n",
       "    }\n",
       "\n",
       "    .dataframe thead th {\n",
       "        text-align: right;\n",
       "    }\n",
       "</style>\n",
       "<table border=\"1\" class=\"dataframe\">\n",
       "  <thead>\n",
       "    <tr style=\"text-align: right;\">\n",
       "      <th></th>\n",
       "      <th>id</th>\n",
       "      <th>grp</th>\n",
       "    </tr>\n",
       "  </thead>\n",
       "  <tbody>\n",
       "  </tbody>\n",
       "</table>\n",
       "</div>"
      ],
      "text/plain": [
       "Empty DataFrame\n",
       "Columns: [id, grp]\n",
       "Index: []"
      ]
     },
     "execution_count": 27,
     "metadata": {},
     "output_type": "execute_result"
    }
   ],
   "source": [
    "active_studs.query('id in @new_activ')"
   ]
  },
  {
   "cell_type": "code",
   "execution_count": 28,
   "metadata": {},
   "outputs": [
    {
     "data": {
      "text/html": [
       "<div>\n",
       "<style scoped>\n",
       "    .dataframe tbody tr th:only-of-type {\n",
       "        vertical-align: middle;\n",
       "    }\n",
       "\n",
       "    .dataframe tbody tr th {\n",
       "        vertical-align: top;\n",
       "    }\n",
       "\n",
       "    .dataframe thead th {\n",
       "        text-align: right;\n",
       "    }\n",
       "</style>\n",
       "<table border=\"1\" class=\"dataframe\">\n",
       "  <thead>\n",
       "    <tr style=\"text-align: right;\">\n",
       "      <th></th>\n",
       "      <th>id</th>\n",
       "      <th>rev</th>\n",
       "      <th>grp</th>\n",
       "    </tr>\n",
       "  </thead>\n",
       "  <tbody>\n",
       "    <tr>\n",
       "      <th>1</th>\n",
       "      <td>3185</td>\n",
       "      <td>690.0</td>\n",
       "      <td>B</td>\n",
       "    </tr>\n",
       "    <tr>\n",
       "      <th>2</th>\n",
       "      <td>25973</td>\n",
       "      <td>690.0</td>\n",
       "      <td>B</td>\n",
       "    </tr>\n",
       "    <tr>\n",
       "      <th>3</th>\n",
       "      <td>26280</td>\n",
       "      <td>690.0</td>\n",
       "      <td>B</td>\n",
       "    </tr>\n",
       "    <tr>\n",
       "      <th>5</th>\n",
       "      <td>100645</td>\n",
       "      <td>630.0</td>\n",
       "      <td>B</td>\n",
       "    </tr>\n",
       "    <tr>\n",
       "      <th>6</th>\n",
       "      <td>102534</td>\n",
       "      <td>580.0</td>\n",
       "      <td>B</td>\n",
       "    </tr>\n",
       "    <tr>\n",
       "      <th>...</th>\n",
       "      <td>...</td>\n",
       "      <td>...</td>\n",
       "      <td>...</td>\n",
       "    </tr>\n",
       "    <tr>\n",
       "      <th>508</th>\n",
       "      <td>5291900</td>\n",
       "      <td>199.0</td>\n",
       "      <td>B</td>\n",
       "    </tr>\n",
       "    <tr>\n",
       "      <th>512</th>\n",
       "      <td>5331842</td>\n",
       "      <td>290.0</td>\n",
       "      <td>B</td>\n",
       "    </tr>\n",
       "    <tr>\n",
       "      <th>521</th>\n",
       "      <td>5486319</td>\n",
       "      <td>199.0</td>\n",
       "      <td>B</td>\n",
       "    </tr>\n",
       "    <tr>\n",
       "      <th>530</th>\n",
       "      <td>5562806</td>\n",
       "      <td>398.0</td>\n",
       "      <td>B</td>\n",
       "    </tr>\n",
       "    <tr>\n",
       "      <th>534</th>\n",
       "      <td>5599663</td>\n",
       "      <td>1900.0</td>\n",
       "      <td>B</td>\n",
       "    </tr>\n",
       "  </tbody>\n",
       "</table>\n",
       "<p>149 rows × 3 columns</p>\n",
       "</div>"
      ],
      "text/plain": [
       "          id     rev grp\n",
       "1       3185   690.0   B\n",
       "2      25973   690.0   B\n",
       "3      26280   690.0   B\n",
       "5     100645   630.0   B\n",
       "6     102534   580.0   B\n",
       "..       ...     ...  ..\n",
       "508  5291900   199.0   B\n",
       "512  5331842   290.0   B\n",
       "521  5486319   199.0   B\n",
       "530  5562806   398.0   B\n",
       "534  5599663  1900.0   B\n",
       "\n",
       "[149 rows x 3 columns]"
      ]
     },
     "execution_count": 28,
     "metadata": {},
     "output_type": "execute_result"
    }
   ],
   "source": [
    "active_studs_new = checks.query('id in @new_activ')\n",
    "active_studs_new"
   ]
  },
  {
   "cell_type": "code",
   "execution_count": 29,
   "metadata": {},
   "outputs": [],
   "source": [
    "# добавление нового списка id\n",
    "active_studs = active_studs.merge(active_studs_new.drop(columns=['rev']), how='outer', on=['id', 'grp'])"
   ]
  },
  {
   "cell_type": "code",
   "execution_count": 30,
   "metadata": {},
   "outputs": [
    {
     "data": {
      "text/plain": [
       "(8477, 2)"
      ]
     },
     "execution_count": 30,
     "metadata": {},
     "output_type": "execute_result"
    }
   ],
   "source": [
    "active_studs.shape"
   ]
  },
  {
   "cell_type": "code",
   "execution_count": 31,
   "metadata": {},
   "outputs": [
    {
     "data": {
      "text/plain": [
       "0"
      ]
     },
     "execution_count": 31,
     "metadata": {},
     "output_type": "execute_result"
    }
   ],
   "source": [
    "# проверка на пересечение контрольной и целевой группы у активных пользователей\n",
    "active_studs_id_a = active_studs[active_studs.grp == \"A\"].id.to_list()\n",
    "active_studs_id_b = active_studs[active_studs.grp == \"B\"].id.to_list()\n",
    "a_b_activ = list(set(active_studs_id_a) & set(active_studs_id_b))\n",
    "len(a_b_activ)"
   ]
  },
  {
   "cell_type": "code",
   "execution_count": 32,
   "metadata": {},
   "outputs": [
    {
     "data": {
      "text/plain": [
       "0"
      ]
     },
     "execution_count": 32,
     "metadata": {},
     "output_type": "execute_result"
    }
   ],
   "source": [
    "# проверка на пересечение контрольной и целевой группы у всех пользователей\n",
    "groups_id_a = groups[groups.grp == \"A\"].id.to_list()\n",
    "groups_id_b = groups[groups.grp == \"B\"].id.to_list()\n",
    "a_b_groups = list(set(groups_id_a) & set(groups_id_b))\n",
    "len(a_b_groups)"
   ]
  },
  {
   "cell_type": "code",
   "execution_count": 33,
   "metadata": {},
   "outputs": [
    {
     "data": {
      "text/plain": [
       "0"
      ]
     },
     "execution_count": 33,
     "metadata": {},
     "output_type": "execute_result"
    }
   ],
   "source": [
    "# проверка на пересечение контрольной и целевой группы у покупающих пользователей\n",
    "checks_id_a = checks[checks.grp == \"A\"].id.to_list()\n",
    "checks_id_b = checks[checks.grp == \"B\"].id.to_list()\n",
    "a_b_checks = list(set(checks_id_a) & set(checks_id_b))\n",
    "len(a_b_checks)"
   ]
  },
  {
   "cell_type": "markdown",
   "metadata": {},
   "source": [
    "# `Задание №1. A/B-тестирование`"
   ]
  },
  {
   "cell_type": "markdown",
   "metadata": {},
   "source": [
    "## A - контроль\n",
    "## B - целевая группа"
   ]
  },
  {
   "cell_type": "markdown",
   "metadata": {},
   "source": [
    "**Целью A/B тестирования** является увеличение прибыли и увеличение количества пользователей, покупающих курсы.\n",
    "\n",
    "**Общая гипотеза** заключается в следующем: \n",
    ">\"Если изменить механику оплаты услуг на сайте, то уменьшится часть пользователей, которые отваливаются на стадии покупки, что позитивно повлияет на монетизацию, потому что новый процесс оплаты удобнее, привлекательнее для пользователя.\"\n",
    "\n",
    "Чтобы определить является ли данное изменение успешным, проследим изменение следующих **метрик**:"
   ]
  },
  {
   "cell_type": "markdown",
   "metadata": {},
   "source": [
    "> **ARPU** (Average Revenue Per User) - средний доход, который приносит каждый пользователь.\n",
    ">\n",
    "> **ARPPU** (Average Revenue Per Paying User) - средний доход, который приносит платящий пользователь.\n",
    ">\n",
    ">**CR** (Conversion rate) - коэффициент конверсии, характеризующий соотношение покупающих пользователей ко всем активным в период эксперимента."
   ]
  },
  {
   "cell_type": "code",
   "execution_count": 34,
   "metadata": {},
   "outputs": [
    {
     "data": {
      "text/plain": [
       "B    80.303\n",
       "A    19.697\n",
       "Name: grp, dtype: float64"
      ]
     },
     "execution_count": 34,
     "metadata": {},
     "output_type": "execute_result"
    }
   ],
   "source": [
    "# процент распределения групп в общем\n",
    "\n",
    "percent_ab_in_groups = round(groups.grp.value_counts(normalize=True).mul(100), 3)\n",
    "percent_ab_in_groups"
   ]
  },
  {
   "cell_type": "code",
   "execution_count": 35,
   "metadata": {},
   "outputs": [
    {
     "data": {
      "text/plain": [
       "B    81.55\n",
       "A    18.45\n",
       "Name: grp, dtype: float64"
      ]
     },
     "execution_count": 35,
     "metadata": {},
     "output_type": "execute_result"
    }
   ],
   "source": [
    "# процент распределения групп среди активных пользователей\n",
    "\n",
    "percent_ab_in_activ = round(active_studs.grp.value_counts(normalize=True).mul(100), 3)\n",
    "percent_ab_in_activ"
   ]
  },
  {
   "cell_type": "code",
   "execution_count": 36,
   "metadata": {},
   "outputs": [
    {
     "data": {
      "text/plain": [
       "B    80.185\n",
       "A    19.815\n",
       "Name: grp, dtype: float64"
      ]
     },
     "execution_count": 36,
     "metadata": {},
     "output_type": "execute_result"
    }
   ],
   "source": [
    "# процент распределения групп среди платящих пользователей\n",
    "\n",
    "percent_ab_buy = round(checks.grp.value_counts(normalize=True).mul(100), 3)\n",
    "percent_ab_buy"
   ]
  },
  {
   "cell_type": "code",
   "execution_count": 37,
   "metadata": {},
   "outputs": [
    {
     "data": {
      "text/plain": [
       "count     540.000000\n",
       "mean     1058.196303\n",
       "std       762.559591\n",
       "min       199.000000\n",
       "25%       290.000000\n",
       "50%       840.000000\n",
       "75%      1900.000000\n",
       "max      4650.000000\n",
       "Name: rev, dtype: float64"
      ]
     },
     "execution_count": 37,
     "metadata": {},
     "output_type": "execute_result"
    }
   ],
   "source": [
    "checks.rev.describe()"
   ]
  },
  {
   "cell_type": "code",
   "execution_count": 38,
   "metadata": {},
   "outputs": [],
   "source": [
    "# добавление колонки об оплате\n",
    "active_studs_all = active_studs.merge(checks.drop(columns=['grp']), how='outer', on='id')"
   ]
  },
  {
   "cell_type": "code",
   "execution_count": 39,
   "metadata": {},
   "outputs": [],
   "source": [
    "active_studs_all_nan = active_studs_all"
   ]
  },
  {
   "cell_type": "code",
   "execution_count": 40,
   "metadata": {},
   "outputs": [],
   "source": [
    "active_studs_all = active_studs_all.fillna(0)"
   ]
  },
  {
   "cell_type": "markdown",
   "metadata": {},
   "source": [
    "Процент распределения групп среди пользователей не одинаков. Пользователей, находящихся в целевой группе больше, чем в контрольной. "
   ]
  },
  {
   "cell_type": "markdown",
   "metadata": {},
   "source": [
    "# Анализ метрик ARPU и ARPPU"
   ]
  },
  {
   "cell_type": "markdown",
   "metadata": {},
   "source": [
    "## Информация об распределении оплаты среди всех активных пользователей (ARPU)"
   ]
  },
  {
   "cell_type": "code",
   "execution_count": 41,
   "metadata": {},
   "outputs": [
    {
     "data": {
      "image/png": "[encoded data removed]",
      "text/plain": [
       "<Figure size 1440x720 with 1 Axes>"
      ]
     },
     "metadata": {},
     "output_type": "display_data"
    }
   ],
   "source": [
    "# построение распределения исходных данных о покупках среди активных пользователей \n",
    "plt.figure(figsize=(20, 10))\n",
    "sns.histplot(x='rev', data=active_studs_all)\n",
    "plt.xlabel('Revenue')\n",
    "plt.ylabel('Count')\n",
    "plt.title(\"Histogram of revenue\")\n",
    "plt.show()"
   ]
  },
  {
   "cell_type": "code",
   "execution_count": 42,
   "metadata": {},
   "outputs": [
    {
     "data": {
      "image/png": "[encoded data removed]",
      "text/plain": [
       "<Figure size 1440x720 with 1 Axes>"
      ]
     },
     "metadata": {},
     "output_type": "display_data"
    }
   ],
   "source": [
    "# построение распределения данных групп о покупках среди активных пользователей\n",
    "plt.figure(figsize=(20, 10))\n",
    "sns.histplot(x=active_studs_all.rev, hue=active_studs_all.grp)\n",
    "plt.xlabel('Revenue')\n",
    "plt.ylabel('Count')\n",
    "plt.title(\"Histogram of revenue by group A\")\n",
    "plt.show()"
   ]
  },
  {
   "cell_type": "code",
   "execution_count": 43,
   "metadata": {},
   "outputs": [
    {
     "data": {
      "image/png": "[encoded data removed]",
      "text/plain": [
       "<Figure size 1440x720 with 1 Axes>"
      ]
     },
     "metadata": {},
     "output_type": "display_data"
    }
   ],
   "source": [
    "# график распределения прибыли по группам в виде боксплота среди активных пользователей\n",
    "plt.figure(figsize=(20, 10))\n",
    "sns.boxplot(x='grp', y='rev', data=active_studs_all)\n",
    "plt.xlabel('Groups')\n",
    "plt.ylabel('Revenue')\n",
    "plt.title(\"Histogram of groups\")\n",
    "plt.show()"
   ]
  },
  {
   "cell_type": "markdown",
   "metadata": {},
   "source": [
    "## Информация об распределении оплаты среди платящих пользователей           (ARPPU)"
   ]
  },
  {
   "cell_type": "code",
   "execution_count": 44,
   "metadata": {},
   "outputs": [
    {
     "data": {
      "image/png": "[encoded data removed]",
      "text/plain": [
       "<Figure size 1440x720 with 1 Axes>"
      ]
     },
     "metadata": {},
     "output_type": "display_data"
    }
   ],
   "source": [
    "# построение распределения исходных данных о покупках среди покупающих пользователей\n",
    "plt.figure(figsize=(20, 10))\n",
    "sns.histplot(x='rev', data=checks)\n",
    "plt.xlabel('Revenue')\n",
    "plt.ylabel('Count')\n",
    "plt.title(\"Histogram of revenue\")\n",
    "plt.show()"
   ]
  },
  {
   "cell_type": "code",
   "execution_count": 45,
   "metadata": {},
   "outputs": [
    {
     "data": {
      "image/png": "[encoded data removed]",
      "text/plain": [
       "<Figure size 1440x720 with 1 Axes>"
      ]
     },
     "metadata": {},
     "output_type": "display_data"
    }
   ],
   "source": [
    "# построение распределения данных групп о покупках среди покупающих пользователей\n",
    "plt.figure(figsize=(20, 10))\n",
    "sns.histplot(x=checks.rev, hue=checks.grp)\n",
    "plt.xlabel('Revenue')\n",
    "plt.ylabel('Count')\n",
    "plt.title(\"Histogram of revenue by groups\")\n",
    "plt.show()"
   ]
  },
  {
   "cell_type": "code",
   "execution_count": 46,
   "metadata": {},
   "outputs": [
    {
     "data": {
      "text/html": [
       "<div>\n",
       "<style scoped>\n",
       "    .dataframe tbody tr th:only-of-type {\n",
       "        vertical-align: middle;\n",
       "    }\n",
       "\n",
       "    .dataframe tbody tr th {\n",
       "        vertical-align: top;\n",
       "    }\n",
       "\n",
       "    .dataframe thead th {\n",
       "        text-align: right;\n",
       "    }\n",
       "</style>\n",
       "<table border=\"1\" class=\"dataframe\">\n",
       "  <thead>\n",
       "    <tr style=\"text-align: right;\">\n",
       "      <th></th>\n",
       "      <th>id</th>\n",
       "      <th>rev</th>\n",
       "      <th>grp</th>\n",
       "    </tr>\n",
       "  </thead>\n",
       "  <tbody>\n",
       "    <tr>\n",
       "      <th>26</th>\n",
       "      <td>264473</td>\n",
       "      <td>1900.0001</td>\n",
       "      <td>B</td>\n",
       "    </tr>\n",
       "    <tr>\n",
       "      <th>33</th>\n",
       "      <td>299195</td>\n",
       "      <td>1900.0000</td>\n",
       "      <td>B</td>\n",
       "    </tr>\n",
       "    <tr>\n",
       "      <th>34</th>\n",
       "      <td>308549</td>\n",
       "      <td>1900.0000</td>\n",
       "      <td>B</td>\n",
       "    </tr>\n",
       "    <tr>\n",
       "      <th>35</th>\n",
       "      <td>308594</td>\n",
       "      <td>1900.0000</td>\n",
       "      <td>B</td>\n",
       "    </tr>\n",
       "    <tr>\n",
       "      <th>39</th>\n",
       "      <td>330737</td>\n",
       "      <td>1900.0000</td>\n",
       "      <td>B</td>\n",
       "    </tr>\n",
       "    <tr>\n",
       "      <th>...</th>\n",
       "      <td>...</td>\n",
       "      <td>...</td>\n",
       "      <td>...</td>\n",
       "    </tr>\n",
       "    <tr>\n",
       "      <th>535</th>\n",
       "      <td>5609523</td>\n",
       "      <td>1900.0000</td>\n",
       "      <td>B</td>\n",
       "    </tr>\n",
       "    <tr>\n",
       "      <th>536</th>\n",
       "      <td>5645737</td>\n",
       "      <td>1900.0000</td>\n",
       "      <td>B</td>\n",
       "    </tr>\n",
       "    <tr>\n",
       "      <th>537</th>\n",
       "      <td>5651566</td>\n",
       "      <td>1900.0000</td>\n",
       "      <td>B</td>\n",
       "    </tr>\n",
       "    <tr>\n",
       "      <th>538</th>\n",
       "      <td>5662322</td>\n",
       "      <td>1900.0000</td>\n",
       "      <td>B</td>\n",
       "    </tr>\n",
       "    <tr>\n",
       "      <th>539</th>\n",
       "      <td>5681918</td>\n",
       "      <td>1900.0000</td>\n",
       "      <td>B</td>\n",
       "    </tr>\n",
       "  </tbody>\n",
       "</table>\n",
       "<p>141 rows × 3 columns</p>\n",
       "</div>"
      ],
      "text/plain": [
       "          id        rev grp\n",
       "26    264473  1900.0001   B\n",
       "33    299195  1900.0000   B\n",
       "34    308549  1900.0000   B\n",
       "35    308594  1900.0000   B\n",
       "39    330737  1900.0000   B\n",
       "..       ...        ...  ..\n",
       "535  5609523  1900.0000   B\n",
       "536  5645737  1900.0000   B\n",
       "537  5651566  1900.0000   B\n",
       "538  5662322  1900.0000   B\n",
       "539  5681918  1900.0000   B\n",
       "\n",
       "[141 rows x 3 columns]"
      ]
     },
     "execution_count": 46,
     "metadata": {},
     "output_type": "execute_result"
    }
   ],
   "source": [
    "# находим промежуток платежа, где была выявлена аномалия в целевой группе\n",
    "checks[checks.grp == \"B\"].query('rev > 1500 and rev < 2000')"
   ]
  },
  {
   "cell_type": "code",
   "execution_count": 47,
   "metadata": {},
   "outputs": [
    {
     "data": {
      "text/plain": [
       "array([1900.0001, 1900.    , 1530.    , 1980.    , 1729.    , 1968.    ])"
      ]
     },
     "execution_count": 47,
     "metadata": {},
     "output_type": "execute_result"
    }
   ],
   "source": [
    "# оцениваем уникальные значения\n",
    "checks[checks.grp == \"B\"].query('rev > 1500 and rev < 2000').rev.unique()"
   ]
  },
  {
   "cell_type": "code",
   "execution_count": 48,
   "metadata": {},
   "outputs": [
    {
     "data": {
      "text/html": [
       "<div>\n",
       "<style scoped>\n",
       "    .dataframe tbody tr th:only-of-type {\n",
       "        vertical-align: middle;\n",
       "    }\n",
       "\n",
       "    .dataframe tbody tr th {\n",
       "        vertical-align: top;\n",
       "    }\n",
       "\n",
       "    .dataframe thead th {\n",
       "        text-align: right;\n",
       "    }\n",
       "</style>\n",
       "<table border=\"1\" class=\"dataframe\">\n",
       "  <thead>\n",
       "    <tr style=\"text-align: right;\">\n",
       "      <th></th>\n",
       "      <th>id</th>\n",
       "      <th>rev</th>\n",
       "      <th>grp</th>\n",
       "    </tr>\n",
       "  </thead>\n",
       "  <tbody>\n",
       "    <tr>\n",
       "      <th>31</th>\n",
       "      <td>287008</td>\n",
       "      <td>1830.0</td>\n",
       "      <td>A</td>\n",
       "    </tr>\n",
       "    <tr>\n",
       "      <th>120</th>\n",
       "      <td>720651</td>\n",
       "      <td>1980.0</td>\n",
       "      <td>A</td>\n",
       "    </tr>\n",
       "    <tr>\n",
       "      <th>135</th>\n",
       "      <td>987129</td>\n",
       "      <td>1980.0</td>\n",
       "      <td>A</td>\n",
       "    </tr>\n",
       "    <tr>\n",
       "      <th>172</th>\n",
       "      <td>1184303</td>\n",
       "      <td>1530.0</td>\n",
       "      <td>A</td>\n",
       "    </tr>\n",
       "    <tr>\n",
       "      <th>220</th>\n",
       "      <td>1590279</td>\n",
       "      <td>1530.0</td>\n",
       "      <td>A</td>\n",
       "    </tr>\n",
       "    <tr>\n",
       "      <th>331</th>\n",
       "      <td>3217461</td>\n",
       "      <td>1530.0</td>\n",
       "      <td>A</td>\n",
       "    </tr>\n",
       "  </tbody>\n",
       "</table>\n",
       "</div>"
      ],
      "text/plain": [
       "          id     rev grp\n",
       "31    287008  1830.0   A\n",
       "120   720651  1980.0   A\n",
       "135   987129  1980.0   A\n",
       "172  1184303  1530.0   A\n",
       "220  1590279  1530.0   A\n",
       "331  3217461  1530.0   A"
      ]
     },
     "execution_count": 48,
     "metadata": {},
     "output_type": "execute_result"
    }
   ],
   "source": [
    "# оцениваем промежуток платежа, где была выявлена аномалия в контрольной группе\n",
    "checks[checks.grp == \"A\"].query('rev > 1500 and rev < 2000')"
   ]
  },
  {
   "cell_type": "code",
   "execution_count": 49,
   "metadata": {},
   "outputs": [
    {
     "data": {
      "text/plain": [
       "count     107.000000\n",
       "mean      860.710280\n",
       "std       815.893445\n",
       "min       199.000000\n",
       "25%       290.000000\n",
       "50%       690.000000\n",
       "75%       990.000000\n",
       "max      3660.000000\n",
       "Name: rev, dtype: float64"
      ]
     },
     "execution_count": 49,
     "metadata": {},
     "output_type": "execute_result"
    }
   ],
   "source": [
    "# выведем описательные характеристики прибыли от группы А\n",
    "checks[checks.grp == \"A\"].rev.describe()   "
   ]
  },
  {
   "cell_type": "code",
   "execution_count": 50,
   "metadata": {},
   "outputs": [
    {
     "data": {
      "text/plain": [
       "count     433.000000\n",
       "mean     1106.997699\n",
       "std       741.714026\n",
       "min       199.000000\n",
       "25%       398.000000\n",
       "50%       880.000000\n",
       "75%      1900.000000\n",
       "max      4650.000000\n",
       "Name: rev, dtype: float64"
      ]
     },
     "execution_count": 50,
     "metadata": {},
     "output_type": "execute_result"
    }
   ],
   "source": [
    "# выведем описательные характеристики прибыли от группы B\n",
    "checks[checks.grp == \"B\"].rev.describe()"
   ]
  },
  {
   "cell_type": "code",
   "execution_count": 51,
   "metadata": {},
   "outputs": [
    {
     "data": {
      "image/png": "[encoded data removed]",
      "text/plain": [
       "<Figure size 1440x720 with 1 Axes>"
      ]
     },
     "metadata": {},
     "output_type": "display_data"
    }
   ],
   "source": [
    "# график распределения прибыли по группам в виде боксплота среди покупающих пользователей\n",
    "plt.figure(figsize=(20, 10))\n",
    "sns.boxplot(x='grp', y='rev', data=checks)\n",
    "plt.xlabel('Groups')\n",
    "plt.ylabel('Revenue')\n",
    "plt.title(\"Histogram of groups\")\n",
    "plt.show()"
   ]
  },
  {
   "cell_type": "code",
   "execution_count": 52,
   "metadata": {},
   "outputs": [],
   "source": [
    "# расчет метрик\n",
    "\n",
    "ARPU_a = round((checks.query('grp == \"A\"').rev.sum()) / (active_studs.query('grp == \"A\"').id.nunique()), 3)\n",
    "ARPU_b = round((checks.query('grp == \"B\"').rev.sum()) / (active_studs.query('grp == \"B\"').id.nunique()), 3)\n",
    "ARPPU_a = round((checks.query('grp == \"A\"').rev.sum()) / (checks.query('grp == \"A\"').id.nunique()), 3)\n",
    "ARPPU_b = round((checks.query('grp == \"B\"').rev.sum()) / (checks.query('grp == \"B\"').id.nunique()), 3)"
   ]
  },
  {
   "cell_type": "code",
   "execution_count": 53,
   "metadata": {},
   "outputs": [
    {
     "data": {
      "text/html": [
       "<div>\n",
       "<style scoped>\n",
       "    .dataframe tbody tr th:only-of-type {\n",
       "        vertical-align: middle;\n",
       "    }\n",
       "\n",
       "    .dataframe tbody tr th {\n",
       "        vertical-align: top;\n",
       "    }\n",
       "\n",
       "    .dataframe thead th {\n",
       "        text-align: right;\n",
       "    }\n",
       "</style>\n",
       "<table border=\"1\" class=\"dataframe\">\n",
       "  <thead>\n",
       "    <tr style=\"text-align: right;\">\n",
       "      <th></th>\n",
       "      <th>grp</th>\n",
       "      <th>ARPU</th>\n",
       "      <th>ARPPU</th>\n",
       "      <th>Paying Share</th>\n",
       "    </tr>\n",
       "  </thead>\n",
       "  <tbody>\n",
       "    <tr>\n",
       "      <th>0</th>\n",
       "      <td>A</td>\n",
       "      <td>58.885</td>\n",
       "      <td>860.710</td>\n",
       "      <td>6.841</td>\n",
       "    </tr>\n",
       "    <tr>\n",
       "      <th>1</th>\n",
       "      <td>B</td>\n",
       "      <td>69.337</td>\n",
       "      <td>1106.998</td>\n",
       "      <td>6.264</td>\n",
       "    </tr>\n",
       "  </tbody>\n",
       "</table>\n",
       "</div>"
      ],
      "text/plain": [
       "  grp    ARPU     ARPPU  Paying Share\n",
       "0   A  58.885   860.710         6.841\n",
       "1   B  69.337  1106.998         6.264"
      ]
     },
     "execution_count": 53,
     "metadata": {},
     "output_type": "execute_result"
    }
   ],
   "source": [
    "# добавление метрик в таблицу\n",
    "\n",
    "metrics = pd.DataFrame({'grp': ['A', 'B'], 'ARPU': [ARPU_a, ARPU_b], 'ARPPU': [ARPPU_a, ARPPU_b]})\n",
    "metrics['Paying Share'] = round((metrics.ARPU / metrics.ARPPU) * 100, 3)\n",
    "metrics"
   ]
  },
  {
   "cell_type": "markdown",
   "metadata": {},
   "source": [
    "> **Paying Share** - метрика, показывающая долю платящих пользователей. Будет использоваться в качестве проверки CR."
   ]
  },
  {
   "cell_type": "markdown",
   "metadata": {},
   "source": [
    "**Предварительные выводы по метрикам ARPU и ARPPU**, опирающиеся на графики и описательную характеристику:\n",
    "-  Изменения в показателях есть (в группе B метрики ARPU и ARPPU выше) , но за счет того, что соотношение количества пользователей в группах неодинаково, то трудно говорить о значимости данных изменений.\n",
    "- Имеются значительные выбросы в обоих группах.\n",
    "- Медианные значения дохода с групп не сильно отличаются, по сравнению со средними значениями значениями. Такая разница обусловлена всплеском покупок в районе 1900, возможно, значельным количеством покупок какого-то конкретного курса по данной цене. Причин может быть несколько: требуется проверить независимость эксперимента (совместно с изменением механики оплаты не должен был проводиться какой-либо другой эксперимент, например по повышению покупок конкретного курса), так же возможно присутствует баг при оплате конкретных курсов, и при изменении процесса оплаты он был устранен, либо наоборот занесен (неправильное считывание данных о покупках конкретного курса).\n",
    "\n",
    "Для определения статистической значимости изменения данных метрик, сформируем гипотезы:\n",
    "\n",
    ">**Нулевая гипотеза** : \"Результаты групп A и B на самом деле не отличаются, наблюдаемые различия случайны\"\n",
    ">\n",
    ">**Альтернативная гипотеза** : \"Результаты групп A и B статистически значимо различаются\"\n",
    "\n",
    "Так как распределение дохода в группах не является нормальным, t-тест в данном случае не применим, а результаты его непараметрического аналога критерия Манна-Уитни будут сложно интерпретируемы в данной задаче, тогда применим **бутстрап-метод** для определения статистической значимости.\n",
    "\n",
    "Поскольку тестовая выборка имеет большие выбросы, которые искажают среднее значение, в качестве описательной статистики в бутстрап-методе выберем **медиану**, чтобы пресечь совершение ошибки первого рода.\n",
    "\n",
    "Уровень значимости выберем 0.05 по причине соотношения досточной мощности критерия и размера выборки (больше 1000 в каждой из групп)."
   ]
  },
  {
   "cell_type": "code",
   "execution_count": 54,
   "metadata": {},
   "outputs": [],
   "source": [
    "# Объявим функцию, которая проверит гипотепотезу об изменении метрик ARPU и ARPPU с помощью бутстрапа \n",
    "\n",
    "def get_bootstrap_ARPU_ARPPU(\n",
    "    data_column_1,   # числовые значения первой выборки\n",
    "    data_column_2,   # числовые значения второй выборки\n",
    "    boot_it=1000,   # количество бутстрэп-подвыборок\n",
    "    statistic=np.median,   # интересующая нас статистика\n",
    "    bootstrap_conf_level=0.95   # уровень значимости\n",
    "):\n",
    "    boot_len = max([len(data_column_1), len(data_column_2)])\n",
    "    boot_data = []\n",
    "    for i in tqdm(range(boot_it)):   # извлекаем подвыборки\n",
    "        samples_1 = data_column_1.sample(\n",
    "            boot_len, \n",
    "            replace=True   # параметр возвращения\n",
    "        ).values\n",
    "        \n",
    "        samples_2 = data_column_2.sample(\n",
    "            boot_len, \n",
    "            replace=True\n",
    "        ).values\n",
    "        smpl1 = samples_1\n",
    "        smpl2 = samples_2\n",
    "        boot_data.append(statistic((sum(smpl1) / len(smpl1)) - (sum(smpl2) / len(smpl2))))\n",
    "        \n",
    "    pd_boot_data = pd.DataFrame(boot_data)\n",
    "        \n",
    "    left_quant = (1 - bootstrap_conf_level) / 2\n",
    "    right_quant = 1 - (1 - bootstrap_conf_level) / 2\n",
    "    ci = pd_boot_data.quantile([left_quant, right_quant])\n",
    "        \n",
    "    p_1 = norm.cdf(\n",
    "        x=0, \n",
    "        loc=np.mean(boot_data), \n",
    "        scale=np.std(boot_data)\n",
    "    )\n",
    "    p_2 = norm.cdf(\n",
    "        x=0, \n",
    "        loc=-np.mean(boot_data), \n",
    "        scale=np.std(boot_data)\n",
    "    )\n",
    "    p_value = min(p_1, p_2) * 2\n",
    "        \n",
    "    # Визуализация\n",
    "    plt.figure(figsize=(20, 10))\n",
    "    sns.histplot(x=pd_boot_data[0], bins=50)\n",
    "    plt.vlines(ci, ymin=0, ymax=50, linestyle='--')\n",
    "    plt.xlabel('boot_data')\n",
    "    plt.ylabel('frequency')\n",
    "    plt.title(\"Histogram of boot_data\")\n",
    "    plt.show()\n",
    "       \n",
    "    return {\"boot_data\": boot_data, \n",
    "            \"ci\": ci, \n",
    "            \"p_value\": p_value}"
   ]
  },
  {
   "cell_type": "markdown",
   "metadata": {},
   "source": [
    "## Применение бутстрапа для ARPU"
   ]
  },
  {
   "cell_type": "code",
   "execution_count": 55,
   "metadata": {},
   "outputs": [],
   "source": [
    "active_studs_all_b = active_studs_all[active_studs_all.grp == 'B'].rev\n",
    "active_studs_all_a = active_studs_all[active_studs_all.grp == 'A'].rev"
   ]
  },
  {
   "cell_type": "code",
   "execution_count": 56,
   "metadata": {},
   "outputs": [
    {
     "data": {
      "text/plain": [
       "6913"
      ]
     },
     "execution_count": 56,
     "metadata": {},
     "output_type": "execute_result"
    }
   ],
   "source": [
    "active_studs_all_b.count()"
   ]
  },
  {
   "cell_type": "code",
   "execution_count": 57,
   "metadata": {},
   "outputs": [
    {
     "data": {
      "text/plain": [
       "1564"
      ]
     },
     "execution_count": 57,
     "metadata": {},
     "output_type": "execute_result"
    }
   ],
   "source": [
    "active_studs_all_a.count()"
   ]
  },
  {
   "cell_type": "code",
   "execution_count": 58,
   "metadata": {},
   "outputs": [
    {
     "data": {
      "application/vnd.jupyter.widget-view+json": {
       "model_id": "8fe15b54ae27482e800c0884c8dd1fdc",
       "version_major": 2,
       "version_minor": 0
      },
      "text/plain": [
       "HBox(children=(FloatProgress(value=0.0, max=9000.0), HTML(value='')))"
      ]
     },
     "metadata": {},
     "output_type": "display_data"
    },
    {
     "name": "stdout",
     "output_type": "stream",
     "text": [
      "\n"
     ]
    },
    {
     "data": {
      "image/png": "[encoded data removed]",
      "text/plain": [
       "<Figure size 1440x720 with 1 Axes>"
      ]
     },
     "metadata": {},
     "output_type": "display_data"
    }
   ],
   "source": [
    "booted_data_ARPU = get_bootstrap_ARPU_ARPPU(active_studs_all_b, active_studs_all_a, boot_it=9000)"
   ]
  },
  {
   "cell_type": "code",
   "execution_count": 59,
   "metadata": {},
   "outputs": [
    {
     "data": {
      "text/plain": [
       "0.05303832026480758"
      ]
     },
     "execution_count": 59,
     "metadata": {},
     "output_type": "execute_result"
    }
   ],
   "source": [
    "# вывод значения p уровня значимости\n",
    "booted_data_ARPU[\"p_value\"]"
   ]
  },
  {
   "cell_type": "code",
   "execution_count": 60,
   "metadata": {},
   "outputs": [
    {
     "data": {
      "text/html": [
       "<div>\n",
       "<style scoped>\n",
       "    .dataframe tbody tr th:only-of-type {\n",
       "        vertical-align: middle;\n",
       "    }\n",
       "\n",
       "    .dataframe tbody tr th {\n",
       "        vertical-align: top;\n",
       "    }\n",
       "\n",
       "    .dataframe thead th {\n",
       "        text-align: right;\n",
       "    }\n",
       "</style>\n",
       "<table border=\"1\" class=\"dataframe\">\n",
       "  <thead>\n",
       "    <tr style=\"text-align: right;\">\n",
       "      <th></th>\n",
       "      <th>0</th>\n",
       "    </tr>\n",
       "  </thead>\n",
       "  <tbody>\n",
       "    <tr>\n",
       "      <th>0.025</th>\n",
       "      <td>-0.237686</td>\n",
       "    </tr>\n",
       "    <tr>\n",
       "      <th>0.975</th>\n",
       "      <td>20.683329</td>\n",
       "    </tr>\n",
       "  </tbody>\n",
       "</table>\n",
       "</div>"
      ],
      "text/plain": [
       "               0\n",
       "0.025  -0.237686\n",
       "0.975  20.683329"
      ]
     },
     "execution_count": 60,
     "metadata": {},
     "output_type": "execute_result"
    }
   ],
   "source": [
    "# вывод доверительного интервала\n",
    "booted_data_ARPU[\"ci\"]"
   ]
  },
  {
   "cell_type": "code",
   "execution_count": 61,
   "metadata": {},
   "outputs": [
    {
     "data": {
      "text/plain": [
       "MannwhitneyuResult(statistic=5431890.0, pvalue=0.48348859422030876)"
      ]
     },
     "execution_count": 61,
     "metadata": {},
     "output_type": "execute_result"
    }
   ],
   "source": [
    "# применяет критерий Манна-Уитни \n",
    "mannwhitneyu(active_studs_all_a, active_studs_all_b)"
   ]
  },
  {
   "cell_type": "markdown",
   "metadata": {},
   "source": [
    "**Результат**: \n",
    "- **Бутстрап** показал p > 0,05 , 0 входит в доверительный интеграл, значит мы **принимаем нулевую гипотезу о равенстве показателя ARPU** в группах A и B.\n",
    "\n",
    "- **Критерий Манна-Уитни** с p > 0.05 так же позволил **принять нулевую гипотезу**."
   ]
  },
  {
   "cell_type": "markdown",
   "metadata": {},
   "source": [
    "## Примерение бутстрапа к метрике ARPPU"
   ]
  },
  {
   "cell_type": "code",
   "execution_count": 62,
   "metadata": {},
   "outputs": [],
   "source": [
    "checks_b = checks[checks.grp == 'B'].rev\n",
    "checks_a = checks[checks.grp == 'A'].rev"
   ]
  },
  {
   "cell_type": "code",
   "execution_count": 63,
   "metadata": {},
   "outputs": [
    {
     "data": {
      "text/plain": [
       "433"
      ]
     },
     "execution_count": 63,
     "metadata": {},
     "output_type": "execute_result"
    }
   ],
   "source": [
    "checks_b.count()"
   ]
  },
  {
   "cell_type": "code",
   "execution_count": 64,
   "metadata": {},
   "outputs": [
    {
     "data": {
      "text/plain": [
       "107"
      ]
     },
     "execution_count": 64,
     "metadata": {},
     "output_type": "execute_result"
    }
   ],
   "source": [
    "checks_a.count()"
   ]
  },
  {
   "cell_type": "code",
   "execution_count": 65,
   "metadata": {},
   "outputs": [
    {
     "data": {
      "application/vnd.jupyter.widget-view+json": {
       "model_id": "aa0d1a9425be49d998ca51b23c4889fe",
       "version_major": 2,
       "version_minor": 0
      },
      "text/plain": [
       "HBox(children=(FloatProgress(value=0.0, max=9000.0), HTML(value='')))"
      ]
     },
     "metadata": {},
     "output_type": "display_data"
    },
    {
     "name": "stdout",
     "output_type": "stream",
     "text": [
      "\n"
     ]
    },
    {
     "data": {
      "image/png": "[encoded data removed]",
      "text/plain": [
       "<Figure size 1440x720 with 1 Axes>"
      ]
     },
     "metadata": {},
     "output_type": "display_data"
    }
   ],
   "source": [
    "booted_data_ARPPU = get_bootstrap_ARPU_ARPPU(checks_b, checks_a, boot_it=9000)"
   ]
  },
  {
   "cell_type": "code",
   "execution_count": 66,
   "metadata": {},
   "outputs": [
    {
     "data": {
      "text/plain": [
       "3.082689524931155e-06"
      ]
     },
     "execution_count": 66,
     "metadata": {},
     "output_type": "execute_result"
    }
   ],
   "source": [
    "# вывод значения p уровня значимости\n",
    "booted_data_ARPPU[\"p_value\"]"
   ]
  },
  {
   "cell_type": "code",
   "execution_count": 67,
   "metadata": {},
   "outputs": [
    {
     "data": {
      "text/html": [
       "<div>\n",
       "<style scoped>\n",
       "    .dataframe tbody tr th:only-of-type {\n",
       "        vertical-align: middle;\n",
       "    }\n",
       "\n",
       "    .dataframe tbody tr th {\n",
       "        vertical-align: top;\n",
       "    }\n",
       "\n",
       "    .dataframe thead th {\n",
       "        text-align: right;\n",
       "    }\n",
       "</style>\n",
       "<table border=\"1\" class=\"dataframe\">\n",
       "  <thead>\n",
       "    <tr style=\"text-align: right;\">\n",
       "      <th></th>\n",
       "      <th>0</th>\n",
       "    </tr>\n",
       "  </thead>\n",
       "  <tbody>\n",
       "    <tr>\n",
       "      <th>0.025</th>\n",
       "      <td>140.615885</td>\n",
       "    </tr>\n",
       "    <tr>\n",
       "      <th>0.975</th>\n",
       "      <td>349.109709</td>\n",
       "    </tr>\n",
       "  </tbody>\n",
       "</table>\n",
       "</div>"
      ],
      "text/plain": [
       "                0\n",
       "0.025  140.615885\n",
       "0.975  349.109709"
      ]
     },
     "execution_count": 67,
     "metadata": {},
     "output_type": "execute_result"
    }
   ],
   "source": [
    "# вывод доверительного интервала\n",
    "booted_data_ARPPU[\"ci\"]"
   ]
  },
  {
   "cell_type": "code",
   "execution_count": 68,
   "metadata": {},
   "outputs": [
    {
     "data": {
      "text/plain": [
       "MannwhitneyuResult(statistic=17850.0, pvalue=0.00021019690333618245)"
      ]
     },
     "execution_count": 68,
     "metadata": {},
     "output_type": "execute_result"
    }
   ],
   "source": [
    "# применяет критерий Манна-Уитни \n",
    "mannwhitneyu(checks_a, checks_b)"
   ]
  },
  {
   "cell_type": "markdown",
   "metadata": {},
   "source": [
    "**Результат**: \n",
    "- **Бутстрап** показал p < 0.05 , 0  не входит в доверительный интеграл, значит мы **откноняем нулевую гипотезу о равенстве показателя ARPPU** в группах A и B.\n",
    "\n",
    "- **Критерий Манна-Уитни** с p < 0.05 так же позволил **откнонить нулевую гипотезу**."
   ]
  },
  {
   "cell_type": "markdown",
   "metadata": {},
   "source": [
    "# Анализ метрики CR "
   ]
  },
  {
   "cell_type": "code",
   "execution_count": 69,
   "metadata": {},
   "outputs": [],
   "source": [
    "# добавим колонку с критерием является ли этот пользователь покупателем или нет \n",
    "active_studs_rev = active_studs_all.rev.to_list()\n",
    "buy = []\n",
    "for i in active_studs_rev:\n",
    "    if i == 0:\n",
    "        buy.append('not_customer')\n",
    "    else:\n",
    "        buy.append('customer')"
   ]
  },
  {
   "cell_type": "code",
   "execution_count": 70,
   "metadata": {},
   "outputs": [],
   "source": [
    "active_studs_all['buy'] = buy"
   ]
  },
  {
   "cell_type": "code",
   "execution_count": 71,
   "metadata": {},
   "outputs": [
    {
     "data": {
      "text/html": [
       "<div>\n",
       "<style scoped>\n",
       "    .dataframe tbody tr th:only-of-type {\n",
       "        vertical-align: middle;\n",
       "    }\n",
       "\n",
       "    .dataframe tbody tr th {\n",
       "        vertical-align: top;\n",
       "    }\n",
       "\n",
       "    .dataframe thead th {\n",
       "        text-align: right;\n",
       "    }\n",
       "</style>\n",
       "<table border=\"1\" class=\"dataframe\">\n",
       "  <thead>\n",
       "    <tr style=\"text-align: right;\">\n",
       "      <th></th>\n",
       "      <th>id</th>\n",
       "      <th>grp</th>\n",
       "      <th>rev</th>\n",
       "      <th>buy</th>\n",
       "    </tr>\n",
       "  </thead>\n",
       "  <tbody>\n",
       "    <tr>\n",
       "      <th>0</th>\n",
       "      <td>581585</td>\n",
       "      <td>A</td>\n",
       "      <td>0.0</td>\n",
       "      <td>not_customer</td>\n",
       "    </tr>\n",
       "    <tr>\n",
       "      <th>1</th>\n",
       "      <td>3276743</td>\n",
       "      <td>B</td>\n",
       "      <td>0.0</td>\n",
       "      <td>not_customer</td>\n",
       "    </tr>\n",
       "    <tr>\n",
       "      <th>2</th>\n",
       "      <td>4238589</td>\n",
       "      <td>A</td>\n",
       "      <td>0.0</td>\n",
       "      <td>not_customer</td>\n",
       "    </tr>\n",
       "    <tr>\n",
       "      <th>3</th>\n",
       "      <td>4475369</td>\n",
       "      <td>B</td>\n",
       "      <td>0.0</td>\n",
       "      <td>not_customer</td>\n",
       "    </tr>\n",
       "    <tr>\n",
       "      <th>4</th>\n",
       "      <td>5481015</td>\n",
       "      <td>B</td>\n",
       "      <td>0.0</td>\n",
       "      <td>not_customer</td>\n",
       "    </tr>\n",
       "    <tr>\n",
       "      <th>...</th>\n",
       "      <td>...</td>\n",
       "      <td>...</td>\n",
       "      <td>...</td>\n",
       "      <td>...</td>\n",
       "    </tr>\n",
       "    <tr>\n",
       "      <th>8472</th>\n",
       "      <td>5291900</td>\n",
       "      <td>B</td>\n",
       "      <td>199.0</td>\n",
       "      <td>customer</td>\n",
       "    </tr>\n",
       "    <tr>\n",
       "      <th>8473</th>\n",
       "      <td>5331842</td>\n",
       "      <td>B</td>\n",
       "      <td>290.0</td>\n",
       "      <td>customer</td>\n",
       "    </tr>\n",
       "    <tr>\n",
       "      <th>8474</th>\n",
       "      <td>5486319</td>\n",
       "      <td>B</td>\n",
       "      <td>199.0</td>\n",
       "      <td>customer</td>\n",
       "    </tr>\n",
       "    <tr>\n",
       "      <th>8475</th>\n",
       "      <td>5562806</td>\n",
       "      <td>B</td>\n",
       "      <td>398.0</td>\n",
       "      <td>customer</td>\n",
       "    </tr>\n",
       "    <tr>\n",
       "      <th>8476</th>\n",
       "      <td>5599663</td>\n",
       "      <td>B</td>\n",
       "      <td>1900.0</td>\n",
       "      <td>customer</td>\n",
       "    </tr>\n",
       "  </tbody>\n",
       "</table>\n",
       "<p>8477 rows × 4 columns</p>\n",
       "</div>"
      ],
      "text/plain": [
       "           id grp     rev           buy\n",
       "0      581585   A     0.0  not_customer\n",
       "1     3276743   B     0.0  not_customer\n",
       "2     4238589   A     0.0  not_customer\n",
       "3     4475369   B     0.0  not_customer\n",
       "4     5481015   B     0.0  not_customer\n",
       "...       ...  ..     ...           ...\n",
       "8472  5291900   B   199.0      customer\n",
       "8473  5331842   B   290.0      customer\n",
       "8474  5486319   B   199.0      customer\n",
       "8475  5562806   B   398.0      customer\n",
       "8476  5599663   B  1900.0      customer\n",
       "\n",
       "[8477 rows x 4 columns]"
      ]
     },
     "execution_count": 71,
     "metadata": {},
     "output_type": "execute_result"
    }
   ],
   "source": [
    "active_studs_all"
   ]
  },
  {
   "cell_type": "code",
   "execution_count": 72,
   "metadata": {},
   "outputs": [
    {
     "data": {
      "image/png": "[encoded data removed]",
      "text/plain": [
       "<Figure size 1440x720 with 1 Axes>"
      ]
     },
     "metadata": {},
     "output_type": "display_data"
    }
   ],
   "source": [
    "# график количества пользователей, которые купили/не купили курс в зависимости от группы\n",
    "plt.figure(figsize=(20, 10))\n",
    "sns.countplot(x=\"buy\", hue=\"grp\", data=active_studs_all)\n",
    "plt.show()"
   ]
  },
  {
   "cell_type": "code",
   "execution_count": 73,
   "metadata": {},
   "outputs": [
    {
     "data": {
      "text/html": [
       "<div>\n",
       "<style scoped>\n",
       "    .dataframe tbody tr th:only-of-type {\n",
       "        vertical-align: middle;\n",
       "    }\n",
       "\n",
       "    .dataframe tbody tr th {\n",
       "        vertical-align: top;\n",
       "    }\n",
       "\n",
       "    .dataframe thead th {\n",
       "        text-align: right;\n",
       "    }\n",
       "</style>\n",
       "<table border=\"1\" class=\"dataframe\">\n",
       "  <thead>\n",
       "    <tr style=\"text-align: right;\">\n",
       "      <th></th>\n",
       "      <th>id</th>\n",
       "      <th>grp</th>\n",
       "      <th>rev</th>\n",
       "    </tr>\n",
       "  </thead>\n",
       "  <tbody>\n",
       "    <tr>\n",
       "      <th>0</th>\n",
       "      <td>581585</td>\n",
       "      <td>A</td>\n",
       "      <td>NaN</td>\n",
       "    </tr>\n",
       "    <tr>\n",
       "      <th>1</th>\n",
       "      <td>3276743</td>\n",
       "      <td>B</td>\n",
       "      <td>NaN</td>\n",
       "    </tr>\n",
       "    <tr>\n",
       "      <th>2</th>\n",
       "      <td>4238589</td>\n",
       "      <td>A</td>\n",
       "      <td>NaN</td>\n",
       "    </tr>\n",
       "    <tr>\n",
       "      <th>3</th>\n",
       "      <td>4475369</td>\n",
       "      <td>B</td>\n",
       "      <td>NaN</td>\n",
       "    </tr>\n",
       "    <tr>\n",
       "      <th>4</th>\n",
       "      <td>5481015</td>\n",
       "      <td>B</td>\n",
       "      <td>NaN</td>\n",
       "    </tr>\n",
       "    <tr>\n",
       "      <th>...</th>\n",
       "      <td>...</td>\n",
       "      <td>...</td>\n",
       "      <td>...</td>\n",
       "    </tr>\n",
       "    <tr>\n",
       "      <th>8472</th>\n",
       "      <td>5291900</td>\n",
       "      <td>B</td>\n",
       "      <td>199.0</td>\n",
       "    </tr>\n",
       "    <tr>\n",
       "      <th>8473</th>\n",
       "      <td>5331842</td>\n",
       "      <td>B</td>\n",
       "      <td>290.0</td>\n",
       "    </tr>\n",
       "    <tr>\n",
       "      <th>8474</th>\n",
       "      <td>5486319</td>\n",
       "      <td>B</td>\n",
       "      <td>199.0</td>\n",
       "    </tr>\n",
       "    <tr>\n",
       "      <th>8475</th>\n",
       "      <td>5562806</td>\n",
       "      <td>B</td>\n",
       "      <td>398.0</td>\n",
       "    </tr>\n",
       "    <tr>\n",
       "      <th>8476</th>\n",
       "      <td>5599663</td>\n",
       "      <td>B</td>\n",
       "      <td>1900.0</td>\n",
       "    </tr>\n",
       "  </tbody>\n",
       "</table>\n",
       "<p>8477 rows × 3 columns</p>\n",
       "</div>"
      ],
      "text/plain": [
       "           id grp     rev\n",
       "0      581585   A     NaN\n",
       "1     3276743   B     NaN\n",
       "2     4238589   A     NaN\n",
       "3     4475369   B     NaN\n",
       "4     5481015   B     NaN\n",
       "...       ...  ..     ...\n",
       "8472  5291900   B   199.0\n",
       "8473  5331842   B   290.0\n",
       "8474  5486319   B   199.0\n",
       "8475  5562806   B   398.0\n",
       "8476  5599663   B  1900.0\n",
       "\n",
       "[8477 rows x 3 columns]"
      ]
     },
     "execution_count": 73,
     "metadata": {},
     "output_type": "execute_result"
    }
   ],
   "source": [
    "active_studs_all_nan"
   ]
  },
  {
   "cell_type": "code",
   "execution_count": 74,
   "metadata": {},
   "outputs": [],
   "source": [
    "# сформируем таблицу \n",
    "cr_activ = active_studs_all_nan.groupby('grp', as_index=False)\\\n",
    "                               .agg({'rev': 'count', 'id': 'count'})\\\n",
    "                               .rename(columns={'rev': 'customer_count', 'id': 'stud_count'})"
   ]
  },
  {
   "cell_type": "code",
   "execution_count": 75,
   "metadata": {},
   "outputs": [],
   "source": [
    "cr_activ['cr_activ'] = round((cr_activ.customer_count / cr_activ.stud_count) * 100, 3)"
   ]
  },
  {
   "cell_type": "code",
   "execution_count": 76,
   "metadata": {},
   "outputs": [
    {
     "data": {
      "text/html": [
       "<div>\n",
       "<style scoped>\n",
       "    .dataframe tbody tr th:only-of-type {\n",
       "        vertical-align: middle;\n",
       "    }\n",
       "\n",
       "    .dataframe tbody tr th {\n",
       "        vertical-align: top;\n",
       "    }\n",
       "\n",
       "    .dataframe thead th {\n",
       "        text-align: right;\n",
       "    }\n",
       "</style>\n",
       "<table border=\"1\" class=\"dataframe\">\n",
       "  <thead>\n",
       "    <tr style=\"text-align: right;\">\n",
       "      <th></th>\n",
       "      <th>grp</th>\n",
       "      <th>customer_count</th>\n",
       "      <th>stud_count</th>\n",
       "      <th>cr_activ</th>\n",
       "    </tr>\n",
       "  </thead>\n",
       "  <tbody>\n",
       "    <tr>\n",
       "      <th>0</th>\n",
       "      <td>A</td>\n",
       "      <td>107</td>\n",
       "      <td>1564</td>\n",
       "      <td>6.841</td>\n",
       "    </tr>\n",
       "    <tr>\n",
       "      <th>1</th>\n",
       "      <td>B</td>\n",
       "      <td>433</td>\n",
       "      <td>6913</td>\n",
       "      <td>6.264</td>\n",
       "    </tr>\n",
       "  </tbody>\n",
       "</table>\n",
       "</div>"
      ],
      "text/plain": [
       "  grp  customer_count  stud_count  cr_activ\n",
       "0   A             107        1564     6.841\n",
       "1   B             433        6913     6.264"
      ]
     },
     "execution_count": 76,
     "metadata": {},
     "output_type": "execute_result"
    }
   ],
   "source": [
    "cr_activ"
   ]
  },
  {
   "cell_type": "markdown",
   "metadata": {},
   "source": [
    "**Предварительные выводы по метрике CR**, опирающиеся на графики и вычисленные значения метрики:\n",
    "- CR совпал с Paying Share, что говорит о корректности выполнения преобразований.\n",
    "- Согласно результатам, с добавлением новой механики оплаты коэффициент сконвертировавшихся пользователей уменьшился. Это говорит о том, что новая механика оплаты на данный момент, в данных промежуток времени не дала нужного результата. Пользователи не стали чаще покупать курсы на данной образовательной платформе.\n",
    "\n",
    "Для определения статистической значимости изменения данных метрик, сформируем гипотезы:\n",
    "\n",
    ">**Нулевая гипотеза** : \"Результаты групп A и B на самом деле не отличаются, наблюдаемые различия случайны\"\n",
    ">\n",
    ">**Альтернативная гипотеза** : \"Результаты групп A и B статистически значимо различаются\"\n",
    "\n",
    "Для проверки статистической значимости измерения метрики будем использовать **Хи-квардат**, где будут исследоваться две категориальные переменные купил/не купил и A/B группа."
   ]
  },
  {
   "cell_type": "code",
   "execution_count": 77,
   "metadata": {},
   "outputs": [],
   "source": [
    "# применим критерий Хи-квадрат\n",
    "stat, p, dof, expected = chi2_contingency(pd.crosstab(active_studs_all.buy, active_studs_all.grp))"
   ]
  },
  {
   "cell_type": "code",
   "execution_count": 78,
   "metadata": {},
   "outputs": [
    {
     "data": {
      "text/plain": [
       "(0.6204959154128902, 0.4308630604023529)"
      ]
     },
     "execution_count": 78,
     "metadata": {},
     "output_type": "execute_result"
    }
   ],
   "source": [
    "stat, p"
   ]
  },
  {
   "cell_type": "markdown",
   "metadata": {},
   "source": [
    "**Результат**: \n",
    "- Результат показал p > 0.05 так же позволил **принять нулевую гипотезу**."
   ]
  },
  {
   "cell_type": "code",
   "execution_count": 79,
   "metadata": {},
   "outputs": [
    {
     "data": {
      "text/html": [
       "<div>\n",
       "<style scoped>\n",
       "    .dataframe tbody tr th:only-of-type {\n",
       "        vertical-align: middle;\n",
       "    }\n",
       "\n",
       "    .dataframe tbody tr th {\n",
       "        vertical-align: top;\n",
       "    }\n",
       "\n",
       "    .dataframe thead th {\n",
       "        text-align: right;\n",
       "    }\n",
       "</style>\n",
       "<table border=\"1\" class=\"dataframe\">\n",
       "  <thead>\n",
       "    <tr style=\"text-align: right;\">\n",
       "      <th></th>\n",
       "      <th>grp</th>\n",
       "      <th>ARPU</th>\n",
       "      <th>ARPPU</th>\n",
       "      <th>Paying Share</th>\n",
       "    </tr>\n",
       "  </thead>\n",
       "  <tbody>\n",
       "    <tr>\n",
       "      <th>0</th>\n",
       "      <td>A</td>\n",
       "      <td>58.885</td>\n",
       "      <td>860.710</td>\n",
       "      <td>6.841</td>\n",
       "    </tr>\n",
       "    <tr>\n",
       "      <th>1</th>\n",
       "      <td>B</td>\n",
       "      <td>69.337</td>\n",
       "      <td>1106.998</td>\n",
       "      <td>6.264</td>\n",
       "    </tr>\n",
       "  </tbody>\n",
       "</table>\n",
       "</div>"
      ],
      "text/plain": [
       "  grp    ARPU     ARPPU  Paying Share\n",
       "0   A  58.885   860.710         6.841\n",
       "1   B  69.337  1106.998         6.264"
      ]
     },
     "execution_count": 79,
     "metadata": {},
     "output_type": "execute_result"
    }
   ],
   "source": [
    "metrics"
   ]
  },
  {
   "cell_type": "code",
   "execution_count": 89,
   "metadata": {},
   "outputs": [],
   "source": [
    "metrics[\"perc_ARPU\"] = [0,round(((100 * metrics.ARPU[1]) / metrics.ARPU[0])-100,2)]\n",
    "metrics[\"perc_ARPPU\"] = [0,round(((100 * metrics.ARPPU[1]) / metrics.ARPPU[0])-100,2)]\n",
    "metrics[\"perc_CR\"] = [0,round(((100 * metrics[\"Paying Share\"][1]) / metrics[\"Paying Share\"][0])-100,2)]"
   ]
  },
  {
   "cell_type": "code",
   "execution_count": 90,
   "metadata": {},
   "outputs": [
    {
     "data": {
      "text/html": [
       "<div>\n",
       "<style scoped>\n",
       "    .dataframe tbody tr th:only-of-type {\n",
       "        vertical-align: middle;\n",
       "    }\n",
       "\n",
       "    .dataframe tbody tr th {\n",
       "        vertical-align: top;\n",
       "    }\n",
       "\n",
       "    .dataframe thead th {\n",
       "        text-align: right;\n",
       "    }\n",
       "</style>\n",
       "<table border=\"1\" class=\"dataframe\">\n",
       "  <thead>\n",
       "    <tr style=\"text-align: right;\">\n",
       "      <th></th>\n",
       "      <th>grp</th>\n",
       "      <th>ARPU</th>\n",
       "      <th>ARPPU</th>\n",
       "      <th>Paying Share</th>\n",
       "      <th>perc_ARPU</th>\n",
       "      <th>perc_ARPPU</th>\n",
       "      <th>perc_CR</th>\n",
       "    </tr>\n",
       "  </thead>\n",
       "  <tbody>\n",
       "    <tr>\n",
       "      <th>0</th>\n",
       "      <td>A</td>\n",
       "      <td>58.885</td>\n",
       "      <td>860.710</td>\n",
       "      <td>6.841</td>\n",
       "      <td>0.00</td>\n",
       "      <td>0.00</td>\n",
       "      <td>0.00</td>\n",
       "    </tr>\n",
       "    <tr>\n",
       "      <th>1</th>\n",
       "      <td>B</td>\n",
       "      <td>69.337</td>\n",
       "      <td>1106.998</td>\n",
       "      <td>6.264</td>\n",
       "      <td>17.75</td>\n",
       "      <td>28.61</td>\n",
       "      <td>-8.43</td>\n",
       "    </tr>\n",
       "  </tbody>\n",
       "</table>\n",
       "</div>"
      ],
      "text/plain": [
       "  grp    ARPU     ARPPU  Paying Share  perc_ARPU  perc_ARPPU  perc_CR\n",
       "0   A  58.885   860.710         6.841       0.00        0.00     0.00\n",
       "1   B  69.337  1106.998         6.264      17.75       28.61    -8.43"
      ]
     },
     "execution_count": 90,
     "metadata": {},
     "output_type": "execute_result"
    }
   ],
   "source": [
    "metrics"
   ]
  },
  {
   "cell_type": "markdown",
   "metadata": {},
   "source": [
    "# Итоги A/B тестирования"
   ]
  },
  {
   "cell_type": "markdown",
   "metadata": {},
   "source": [
    "- Средний доход, который приносит каждый пользователь, увеличился на 17.75%. Данный реузльтат не является статически значимым.\n",
    "- Средний доход, который приносит каждый платящий пользователь, увеличился на 28.61%. Данный результат является статистически значимым.\n",
    "- Конверсия в покупку уменьшилась на 8.43%. Данный результат не статистически значим.\n",
    "\n",
    "НО увеличение ARPPU в тестовой группе прошло не равномерно относительно контрольной. Был выявлен явный всплеск покупок конкретных курсов. Если это баг, было бы увеличение ARPPU статистичеки значимо? "
   ]
  },
  {
   "cell_type": "markdown",
   "metadata": {},
   "source": [
    "## Вывод:\n",
    "- **Принимаем контрорльную версию A**, но только в данный промежуток времени, до выяснения причин подъема продаж конкретных курсов. После этого, если ошибок в системе не было выявлено, **принимаем тестовую версию B** . Если же ошибка была, то следует провести заново A/B тестирование. \n",
    "- **Замечание**: стоит проверить, почему подскочил спрос на курс за 1900 в группе B.\n",
    "- **Замечание**: неравномерность распределения пользователей по группам: 80% в тестовой и 20% в контрольной."
   ]
  },
  {
   "cell_type": "markdown",
   "metadata": {},
   "source": [
    "# `Задание №2. SQL`"
   ]
  },
  {
   "cell_type": "markdown",
   "metadata": {},
   "source": [
    "## В качестве СУБД будет использован ClickHouse"
   ]
  },
  {
   "cell_type": "markdown",
   "metadata": {},
   "source": [
    "Образовательные курсы состоят из различных уроков, каждый из которых состоит из нескольких маленьких заданий. Каждое такое маленькое задание называется \"горошиной\".\n",
    "\n",
    "Назовём очень **усердным** учеником того пользователя, который хотя бы раз за текущий месяц правильно **решил 20 горошин за час**."
   ]
  },
  {
   "cell_type": "code",
   "execution_count": null,
   "metadata": {},
   "outputs": [],
   "source": [
    "# объявляем параметры подключения\n",
    "connection_default = {'host': 'http://clickhouse.beslan.pro:8080',\n",
    "                      'database': 'default',\n",
    "                      'user': 'student', \n",
    "                      'password': 'dpo_python_2020'}"
   ]
  },
  {
   "cell_type": "markdown",
   "metadata": {},
   "source": [
    "### `№ 2.1 Вывод информации об усердных студентах за матр 2020`"
   ]
  },
  {
   "cell_type": "code",
   "execution_count": null,
   "metadata": {},
   "outputs": [],
   "source": [
    "# написание запроса\n",
    "query_count_of_students = \"\"\"\n",
    "SELECT\n",
    "    count(correct_count) count_of_successful_students\n",
    "FROM   (SELECT \n",
    "        st_id,\n",
    "        timest,\n",
    "        toHour(timest) as hour,\n",
    "        count(correct) as correct_count,\n",
    "        subject\n",
    "    FROM\n",
    "        (SELECT \n",
    "             toString(st_id) st_id,\n",
    "             toDateTime(timest) timest,\n",
    "             correct,\n",
    "             toString(subject) subject\n",
    "        FROM default.peas\n",
    "        WHERE correct == 1 \n",
    "            AND \n",
    "            (CAST(timest as date) BETWEEN '20200231' and '20200401')\n",
    "        )\n",
    "    GROUP BY hour, st_id, timest, subject\n",
    "    )\n",
    "WHERE correct_count >= 20\n",
    "\"\"\""
   ]
  },
  {
   "cell_type": "code",
   "execution_count": null,
   "metadata": {},
   "outputs": [],
   "source": [
    "# получение данных из ClickHouse\n",
    "count_of_successful_students = ph.read_clickhouse(query=query_count_of_students, connection=connection_default)\n",
    "count_of_successful_students = count_of_successful_students.loc[0][0]\n",
    "count_of_successful_students"
   ]
  },
  {
   "cell_type": "markdown",
   "metadata": {},
   "source": [
    "### `№ 2.2 Вывод метрик`"
   ]
  },
  {
   "cell_type": "markdown",
   "metadata": {},
   "source": [
    "Образовательная платформа предлагает пройти студентам курсы по модели trial: **студент может решить бесплатно лишь 30 горошин в день**. Для неограниченного количества заданий в определенной дисциплине студенту необходимо приобрести полный доступ. Команда провела **эксперимент, где был протестирован новый экран оплаты**."
   ]
  },
  {
   "cell_type": "code",
   "execution_count": null,
   "metadata": {},
   "outputs": [],
   "source": [
    "# написание запроса\n",
    "query_metrics = \"\"\"\n",
    "SELECT \n",
    "    test_grp,\n",
    "    sum(money) / uniqExact(st_id_all) as ARPU,   \n",
    "    sum(money) / uniqExact(actite_id) as ARPAU,  \n",
    "    (uniqExact(st_id_buy) / uniqExact(st_id_all)) * 100 as CR,\n",
    "    (uniqExact(st_id_buy) / uniqExact(actite_id)) * 100 as CR_activ,\n",
    "    (uniqExact(buy_id_in_Math) / uniqExact(actite_id_in_Math)) * 100 as CR_activ_in_Math\n",
    "FROM\n",
    "    (\n",
    "    SELECT \n",
    "        peas.st_id as st_id_all,\n",
    "        check.st_id as st_id_buy,\n",
    "        check.test_grp as test_grp,\n",
    "        check.money as money,\n",
    "        peas.actite_id as actite_id,\n",
    "        peas.actite_id_in_Math as actite_id_in_Math,\n",
    "        check.buy_id_in_Math as buy_id_in_Math\n",
    "    FROM\n",
    "        (\n",
    "        SELECT \n",
    "            st_id,\n",
    "            toDayOfYear(timest) as days, \n",
    "            count(correct) as count_correct, \n",
    "            CASE \n",
    "                WHEN count_correct >= 1 THEN st_id\n",
    "                ELSE NULL\n",
    "                END as actite_id,\n",
    "            CASE \n",
    "                WHEN count_correct >= 1 AND subject == 'Math' THEN st_id\n",
    "                ELSE NULL\n",
    "                END as actite_id_in_Math\n",
    "        FROM default.peas\n",
    "        GROUP BY st_id, days, subject\n",
    "        ) as peas\n",
    "    LEFT JOIN \n",
    "        (\n",
    "        SELECT \n",
    "            check.st_id as st_id,\n",
    "            studs.test_grp as test_grp,\n",
    "            sum(check.money) as money,\n",
    "            CASE \n",
    "                WHEN subject == 'Math' THEN st_id\n",
    "                ELSE NULL\n",
    "                END as buy_id_in_Math\n",
    "        FROM default.final_project_check as check\n",
    "        LEFT JOIN \n",
    "            (\n",
    "            SELECT *\n",
    "            FROM default.studs\n",
    "            ) as studs\n",
    "        ON check.st_id = studs.st_id\n",
    "        GROUP BY st_id, test_grp, subject\n",
    "        ) as check\n",
    "    ON peas.st_id = check.st_id\n",
    "    ) \n",
    "GROUP BY test_grp\n",
    "    \n",
    "\"\"\""
   ]
  },
  {
   "cell_type": "code",
   "execution_count": null,
   "metadata": {},
   "outputs": [],
   "source": [
    "metrics_sql = ph.read_clickhouse(query=query_metrics, connection=connection_default)\n",
    "metrics_sql"
   ]
  },
  {
   "cell_type": "markdown",
   "metadata": {},
   "source": [
    "**Примечание**: интерпретация результатов в данном случае не важна, так как запросы выполнялись на учебных данных. Данное задание предназвачено для проверки написания корректности запросов."
   ]
  },
  {
   "cell_type": "markdown",
   "metadata": {},
   "source": [
    "# `Задание № 3. Python`"
   ]
  },
  {
   "cell_type": "markdown",
   "metadata": {},
   "source": [
    "Реализуйте функцию, которая будет автоматически подгружать информацию из дополнительного файла groups_add.csv (заголовки могут отличаться) и на основании дополнительных параметров пересчитывать метрики."
   ]
  },
  {
   "cell_type": "code",
   "execution_count": null,
   "metadata": {},
   "outputs": [],
   "source": [
    "# подготовим прошлые данные: изменим название столбца и добавим столбец с датой фиксирования метрик\n",
    "# данные такого формата должны поступать в функцию\n",
    "metrics = metrics.rename(columns={'Paying Share': 'CR'})\n",
    "metrics.insert(0, 'date', pd.to_datetime('20211229', format='%Y%m%d', errors='ignore'))"
   ]
  },
  {
   "cell_type": "code",
   "execution_count": null,
   "metadata": {},
   "outputs": [],
   "source": [
    "groups"
   ]
  },
  {
   "cell_type": "code",
   "execution_count": null,
   "metadata": {},
   "outputs": [],
   "source": [
    "\"\"\"\n",
    "Функция, реальзующая пересчет метрик при добавлении дополнительной информации о группах пользователей. \n",
    "Принимает на вход ссылки для скачивания данных, дату пересчета метрик и данные с прошлым расчетом метрик.\n",
    "\"\"\" \n",
    "\n",
    "\n",
    "def groups_add_ab(public_key_groups_add='https://disk.yandex.ru/d/3aARY-P9pfaksg',\n",
    "                  public_key_groups='https://disk.yandex.ru/d/58Us0DWOzuWAjg',\n",
    "                  public_key_active_studs='https://disk.yandex.ru/d/prbgU-rZpiXVYg',\n",
    "                  public_key_checks='https://disk.yandex.ru/d/84hTmELphW2sqQ',\n",
    "                  date='20220101',\n",
    "                  metrics_old=metrics):\n",
    "    \n",
    "    # получение данных из переданной ссылки с файлом на Яндекс диске\n",
    "    base_url = 'https://cloud-api.yandex.net/v1/disk/public/resources/download?'\n",
    "    final_url_groups = base_url + urlencode(dict(public_key=public_key_groups))   # формирование url \n",
    "    response_groups = requests.get(final_url_groups)   # запрос на извлечение данных по указанному url\n",
    "    download_url_groups = json.loads(response_groups.text)['href']   # парсинг данных \n",
    "    groups = pd.read_csv(download_url_groups, sep=';')   # считывание данных в формате dataframe\n",
    "    \n",
    "    # так как названия колонок могут отличаться, а порядок нет, то вносим переименование \n",
    "    groups.columns.values[0] = 'id'\n",
    "    groups.columns.values[1] = 'grp'\n",
    "    \n",
    "    # приведение к id и название группы к строковому типу данных\n",
    "    groups = groups.astype({'id': 'string', 'grp': 'string'})\n",
    "\n",
    "    final_url_active_studs = base_url + urlencode(dict(public_key=public_key_active_studs))\n",
    "    response_active_studs = requests.get(final_url_active_studs)\n",
    "    download_url_active_studs = json.loads(response_active_studs.text)['href']\n",
    "    active_studs = pd.read_csv(download_url_active_studs, sep=';')\n",
    "    \n",
    "    # вносим переименование, так как названия колонок могут отличаться, а порядок нет\n",
    "    active_studs.columns.values[0] = 'id'\n",
    "    \n",
    "    # приведение к id к строковому типу данных\n",
    "    active_studs = active_studs.astype({'id': 'string'})\n",
    "\n",
    "    final_url_checks = base_url + urlencode(dict(public_key=public_key_checks))\n",
    "    response_checks = requests.get(final_url_checks)\n",
    "    download_url_checks = json.loads(response_checks.text)['href']\n",
    "    checks = pd.read_csv(download_url_checks, sep=';')\n",
    "    \n",
    "    # вносим переименование, так как названия колонок могут отличаться, а порядок нет\n",
    "    checks.columns.values[0] = 'id'\n",
    "    checks.columns.values[1] = 'rev'\n",
    "    \n",
    "    # приведение к id к строковому типу данных\n",
    "    checks = checks.astype({'id': 'string'})\n",
    "    \n",
    "    final_url_groups_add = base_url + urlencode(dict(public_key=public_key_groups_add))\n",
    "    response_groups_add = requests.get(final_url_groups_add)\n",
    "    download_url_groups_add = json.loads(response_groups_add.text)['href']\n",
    "    groups_add = pd.read_csv(download_url_groups_add, sep=',')\n",
    "    \n",
    "    # вносим переименование, так как названия колонок могут отличаться, а порядок нет\n",
    "    groups_add.columns.values[0] = 'id'\n",
    "    groups_add.columns.values[1] = 'grp'\n",
    "\n",
    "    # приведение к id и название группы к строковому типу данных\n",
    "    groups_add = groups_add.astype({'id': 'string', 'grp': 'string'})\n",
    "    \n",
    "    # добавление данных к основной группе\n",
    "    groups_new = groups.merge(groups_add, how='outer', on=['id', 'grp'])\n",
    "    \n",
    "    # дополнение таблицы active_studs данными из таблицы groups\n",
    "    active_studs_new_ = active_studs.merge(groups_new, how='left', on='id')\n",
    "    \n",
    "    # дополнение таблицы active_studs данными из таблицы groups\n",
    "    checks_new = checks.merge(groups_new, how='left', on='id')\n",
    "    \n",
    "    # проверка на совпадение множества активных пользователей в этот день и на покупающих пользователей.\n",
    "    # если запись пользователей верна, то разница будет 0, если нет, то дополняем список\n",
    "    checks_new_id_list = checks_new.id.to_list()\n",
    "    active_studs_new_id_list = active_studs_new.id.to_list()\n",
    "    new_activ_ = list(set(checks_new_id_list) - set(active_studs_new_id_list))\n",
    "    \n",
    "    if len(new_activ_) != 0:\n",
    "        active_studs_new_act = checks_new.query('id in @new_activ_').drop(columns=['rev'])\n",
    "        # добавление нового списка id\n",
    "        active_studs_new_ = active_studs_new_.merge(active_studs_new_act, how='outer', on=['id', 'grp'])\n",
    "   \n",
    "    # расчет метрик\n",
    "    ARPU_a = round((checks_new.query('grp == \"A\"').rev.sum()) / (active_studs_new_.query('grp == \"A\"').id.nunique()), 3)\n",
    "    ARPU_b = round((checks_new.query('grp == \"B\"').rev.sum()) / (active_studs_new_.query('grp == \"B\"').id.nunique()), 3)\n",
    "    ARPPU_a = round((checks_new.query('grp == \"A\"').rev.sum()) / (checks_new.query('grp == \"A\"').id.nunique()), 3)\n",
    "    ARPPU_b = round((checks_new.query('grp == \"B\"').rev.sum()) / (checks_new.query('grp == \"B\"').id.nunique()), 3)\n",
    "    \n",
    "    # добавление метрик в таблицу\n",
    "    metrics_new = pd.DataFrame({'grp': ['A', 'B'], 'ARPU': [ARPU_a, ARPU_b], 'ARPPU': [ARPPU_a, ARPPU_b]})\n",
    "    metrics_new['CR'] = round((metrics_new.ARPU / metrics_new.ARPPU) * 100, 3)\n",
    "    \n",
    "    # введем колонку, отвечающую за дату снятия метрик\n",
    "    metrics_new.insert(0, 'date', pd.to_datetime(date, format='%Y%m%d', errors='ignore'))\n",
    "    \n",
    "    # объединение новых и старых данных\n",
    "    metrics = metrics_old.merge(metrics_new, how='outer')\n",
    "    \n",
    "    return metrics"
   ]
  },
  {
   "cell_type": "code",
   "execution_count": null,
   "metadata": {},
   "outputs": [],
   "source": [
    "groups_add_ab()"
   ]
  },
  {
   "cell_type": "code",
   "execution_count": null,
   "metadata": {},
   "outputs": [],
   "source": [
    "\"\"\" \n",
    "Функция, реализующая построение графиков по изменению метрик во времени.\n",
    "На вход принимается таблица значений метрик с датой их пересчета.\n",
    "\"\"\"\n",
    "\n",
    "\n",
    "def metrics_scheduls(metrics):\n",
    "    \n",
    "    plt.figure(figsize=(20, 10))\n",
    "    plt.subplot(2, 2, 1)\n",
    "    sns.lineplot(data=metrics, x=\"date\", y=\"ARPU\", hue=\"grp\")\n",
    "    plt.subplot(2, 2, 3)\n",
    "    sns.lineplot(data=metrics, x=\"date\", y=\"ARPPU\", hue=\"grp\")\n",
    "    plt.subplot(1, 2, 2)\n",
    "    sns.lineplot(data=metrics, x=\"date\", y=\"CR\", hue=\"grp\")\n",
    "    plt.show()\n",
    "    \n",
    "    return metrics"
   ]
  },
  {
   "cell_type": "code",
   "execution_count": null,
   "metadata": {},
   "outputs": [],
   "source": [
    "metrics_scheduls(groups_add_ab())"
   ]
  }
 ],
 "metadata": {
  "kernelspec": {
   "display_name": "Python 3",
   "language": "python",
   "name": "python3"
  },
  "language_info": {
   "codemirror_mode": {
    "name": "ipython",
    "version": 3
   },
   "file_extension": ".py",
   "mimetype": "text/x-python",
   "name": "python",
   "nbconvert_exporter": "python",
   "pygments_lexer": "ipython3",
   "version": "3.7.3"
  }
 },
 "nbformat": 4,
 "nbformat_minor": 4
}
