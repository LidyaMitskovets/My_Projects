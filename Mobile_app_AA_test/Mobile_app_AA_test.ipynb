{
 "cells": [
  {
   "cell_type": "markdown",
   "metadata": {},
   "source": [
    "#  A/A тестирование мобильного приложения."
   ]
  },
  {
   "cell_type": "markdown",
   "metadata": {},
   "source": [
    "# Description\n",
    "\n",
    "experimentVariant – вариант эксперимента\n",
    "\n",
    "version – версия приложения\n",
    "\n",
    "purchase – факт покупки"
   ]
  },
  {
   "cell_type": "code",
   "execution_count": 1,
   "metadata": {},
   "outputs": [],
   "source": [
    "import numpy as np\n",
    "import pandas as pd\n",
    "from scipy import stats\n",
    "import matplotlib.pyplot as plt\n",
    "import seaborn as sns\n",
    "from statsmodels.stats.contingency_tables import StratifiedTable\n",
    "\n",
    "from tqdm.auto import tqdm\n",
    "\n",
    "plt.style.use('ggplot')"
   ]
  },
  {
   "cell_type": "code",
   "execution_count": 2,
   "metadata": {},
   "outputs": [
    {
     "data": {
      "text/html": [
       "<div>\n",
       "<style scoped>\n",
       "    .dataframe tbody tr th:only-of-type {\n",
       "        vertical-align: middle;\n",
       "    }\n",
       "\n",
       "    .dataframe tbody tr th {\n",
       "        vertical-align: top;\n",
       "    }\n",
       "\n",
       "    .dataframe thead th {\n",
       "        text-align: right;\n",
       "    }\n",
       "</style>\n",
       "<table border=\"1\" class=\"dataframe\">\n",
       "  <thead>\n",
       "    <tr style=\"text-align: right;\">\n",
       "      <th></th>\n",
       "      <th>uid</th>\n",
       "      <th>experiment_variant</th>\n",
       "      <th>version</th>\n",
       "      <th>purchase</th>\n",
       "    </tr>\n",
       "  </thead>\n",
       "  <tbody>\n",
       "    <tr>\n",
       "      <th>0</th>\n",
       "      <td>c4ca4238a0b923820dcc509a6f75849b</td>\n",
       "      <td>1</td>\n",
       "      <td>v2.8.0</td>\n",
       "      <td>0</td>\n",
       "    </tr>\n",
       "    <tr>\n",
       "      <th>1</th>\n",
       "      <td>c81e728d9d4c2f636f067f89cc14862c</td>\n",
       "      <td>0</td>\n",
       "      <td>v2.9.0</td>\n",
       "      <td>0</td>\n",
       "    </tr>\n",
       "    <tr>\n",
       "      <th>2</th>\n",
       "      <td>eccbc87e4b5ce2fe28308fd9f2a7baf3</td>\n",
       "      <td>1</td>\n",
       "      <td>v2.9.0</td>\n",
       "      <td>0</td>\n",
       "    </tr>\n",
       "    <tr>\n",
       "      <th>3</th>\n",
       "      <td>a87ff679a2f3e71d9181a67b7542122c</td>\n",
       "      <td>1</td>\n",
       "      <td>v2.8.0</td>\n",
       "      <td>0</td>\n",
       "    </tr>\n",
       "    <tr>\n",
       "      <th>4</th>\n",
       "      <td>e4da3b7fbbce2345d7772b0674a318d5</td>\n",
       "      <td>1</td>\n",
       "      <td>v2.8.0</td>\n",
       "      <td>0</td>\n",
       "    </tr>\n",
       "    <tr>\n",
       "      <th>...</th>\n",
       "      <td>...</td>\n",
       "      <td>...</td>\n",
       "      <td>...</td>\n",
       "      <td>...</td>\n",
       "    </tr>\n",
       "    <tr>\n",
       "      <th>127013</th>\n",
       "      <td>d1f082ede77b17a99a9b0b240daf7bdf</td>\n",
       "      <td>0</td>\n",
       "      <td>v2.8.0</td>\n",
       "      <td>0</td>\n",
       "    </tr>\n",
       "    <tr>\n",
       "      <th>127014</th>\n",
       "      <td>94f0d540830ccdc6b29c1938eea445cc</td>\n",
       "      <td>0</td>\n",
       "      <td>v2.8.0</td>\n",
       "      <td>0</td>\n",
       "    </tr>\n",
       "    <tr>\n",
       "      <th>127015</th>\n",
       "      <td>709f74cf9721328e98be6f216e8a05a8</td>\n",
       "      <td>1</td>\n",
       "      <td>v2.9.0</td>\n",
       "      <td>0</td>\n",
       "    </tr>\n",
       "    <tr>\n",
       "      <th>127016</th>\n",
       "      <td>1767ae3f8ffec269d9ed0ac0ede68d90</td>\n",
       "      <td>1</td>\n",
       "      <td>v2.8.0</td>\n",
       "      <td>0</td>\n",
       "    </tr>\n",
       "    <tr>\n",
       "      <th>127017</th>\n",
       "      <td>8dd8503c49b5e8c6aaea1ed7f0c49765</td>\n",
       "      <td>1</td>\n",
       "      <td>v2.8.0</td>\n",
       "      <td>0</td>\n",
       "    </tr>\n",
       "  </tbody>\n",
       "</table>\n",
       "<p>127018 rows × 4 columns</p>\n",
       "</div>"
      ],
      "text/plain": [
       "                                     uid  experiment_variant version  purchase\n",
       "0       c4ca4238a0b923820dcc509a6f75849b                   1  v2.8.0         0\n",
       "1       c81e728d9d4c2f636f067f89cc14862c                   0  v2.9.0         0\n",
       "2       eccbc87e4b5ce2fe28308fd9f2a7baf3                   1  v2.9.0         0\n",
       "3       a87ff679a2f3e71d9181a67b7542122c                   1  v2.8.0         0\n",
       "4       e4da3b7fbbce2345d7772b0674a318d5                   1  v2.8.0         0\n",
       "...                                  ...                 ...     ...       ...\n",
       "127013  d1f082ede77b17a99a9b0b240daf7bdf                   0  v2.8.0         0\n",
       "127014  94f0d540830ccdc6b29c1938eea445cc                   0  v2.8.0         0\n",
       "127015  709f74cf9721328e98be6f216e8a05a8                   1  v2.9.0         0\n",
       "127016  1767ae3f8ffec269d9ed0ac0ede68d90                   1  v2.8.0         0\n",
       "127017  8dd8503c49b5e8c6aaea1ed7f0c49765                   1  v2.8.0         0\n",
       "\n",
       "[127018 rows x 4 columns]"
      ]
     },
     "execution_count": 2,
     "metadata": {},
     "output_type": "execute_result"
    }
   ],
   "source": [
    "# подготовка данных\n",
    "df = pd.read_csv('hw_aa.csv', sep = ';')\\\n",
    "       .drop(columns = 'Unnamed: 0')\\\n",
    "       .rename(columns = { 'experimentVariant' : 'experiment_variant'})\n",
    "df"
   ]
  },
  {
   "cell_type": "code",
   "execution_count": 3,
   "metadata": {},
   "outputs": [
    {
     "name": "stdout",
     "output_type": "stream",
     "text": [
      "<class 'pandas.core.frame.DataFrame'>\n",
      "RangeIndex: 127018 entries, 0 to 127017\n",
      "Data columns (total 4 columns):\n",
      " #   Column              Non-Null Count   Dtype \n",
      "---  ------              --------------   ----- \n",
      " 0   uid                 127018 non-null  object\n",
      " 1   experiment_variant  127018 non-null  int64 \n",
      " 2   version             127018 non-null  object\n",
      " 3   purchase            127018 non-null  int64 \n",
      "dtypes: int64(2), object(2)\n",
      "memory usage: 3.9+ MB\n"
     ]
    }
   ],
   "source": [
    "df.info()"
   ]
  },
  {
   "cell_type": "markdown",
   "metadata": {},
   "source": [
    "Проведение АА теста."
   ]
  },
  {
   "cell_type": "code",
   "execution_count": 4,
   "metadata": {},
   "outputs": [
    {
     "data": {
      "application/vnd.jupyter.widget-view+json": {
       "model_id": "2afe390e65874b2983101971a300729c",
       "version_major": 2,
       "version_minor": 0
      },
      "text/plain": [
       "HBox(children=(FloatProgress(value=0.0, max=1000.0), HTML(value='')))"
      ]
     },
     "metadata": {},
     "output_type": "display_data"
    },
    {
     "name": "stdout",
     "output_type": "stream",
     "text": [
      "\n"
     ]
    },
    {
     "data": {
      "image/png": "[encoded data removed]",
      "text/plain": [
       "<Figure size 1440x720 with 1 Axes>"
      ]
     },
     "metadata": {},
     "output_type": "display_data"
    },
    {
     "data": {
      "text/plain": [
       "0.936"
      ]
     },
     "execution_count": 4,
     "metadata": {},
     "output_type": "execute_result"
    }
   ],
   "source": [
    "n = 127018 # раземер оригинальной выборки\n",
    "simulations = 1000 # количество симуляций \n",
    "n_s = 1000 # количество наблюдений в подвыборке\n",
    "res = [] # результаты по p-value\n",
    "\n",
    "# Запуск симуляций A/A теста\n",
    "for i in tqdm(range(simulations)):\n",
    "    s1 = df[df.experiment_variant == 1].purchase.sample(n_s, replace = False).values\n",
    "    s2 = df[df.experiment_variant == 0].purchase.sample(n_s, replace = False).values\n",
    "    res.append(stats.ttest_ind(s1, s2, equal_var = False)[1]) # сохраняем p-value\n",
    "    \n",
    "# Визуализация\n",
    "plt.figure(figsize=(20,10))\n",
    "plt.hist(res, bins = 50)\n",
    "plt.style.use('ggplot')\n",
    "plt.xlabel('pvalues')\n",
    "plt.ylabel('frequency')\n",
    "plt.title(\"Histogram of ttest A/A simulations \")\n",
    "plt.show()\n",
    "\n",
    "# Проверяем, что количество ложноположительных случаев не превышает альфа\n",
    "sum(np.array(res) <0.05) / simulations"
   ]
  },
  {
   "cell_type": "markdown",
   "metadata": {},
   "source": [
    "На основании того, что распределение конверсии в покупку неравномерно, FPR = 0.926 > 0.05, можно говорить о том, что сплит-система работает некорректно."
   ]
  },
  {
   "cell_type": "code",
   "execution_count": 5,
   "metadata": {},
   "outputs": [
    {
     "data": {
      "text/html": [
       "<div>\n",
       "<style scoped>\n",
       "    .dataframe tbody tr th:only-of-type {\n",
       "        vertical-align: middle;\n",
       "    }\n",
       "\n",
       "    .dataframe tbody tr th {\n",
       "        vertical-align: top;\n",
       "    }\n",
       "\n",
       "    .dataframe thead th {\n",
       "        text-align: right;\n",
       "    }\n",
       "</style>\n",
       "<table border=\"1\" class=\"dataframe\">\n",
       "  <thead>\n",
       "    <tr style=\"text-align: right;\">\n",
       "      <th></th>\n",
       "      <th>experiment_variant</th>\n",
       "      <th>version</th>\n",
       "      <th>purchase</th>\n",
       "    </tr>\n",
       "  </thead>\n",
       "  <tbody>\n",
       "    <tr>\n",
       "      <th>0</th>\n",
       "      <td>0</td>\n",
       "      <td>v2.8.0</td>\n",
       "      <td>0.000993</td>\n",
       "    </tr>\n",
       "    <tr>\n",
       "      <th>1</th>\n",
       "      <td>0</td>\n",
       "      <td>v2.9.0</td>\n",
       "      <td>0.074658</td>\n",
       "    </tr>\n",
       "    <tr>\n",
       "      <th>2</th>\n",
       "      <td>0</td>\n",
       "      <td>v3.7.4.0</td>\n",
       "      <td>0.059943</td>\n",
       "    </tr>\n",
       "    <tr>\n",
       "      <th>3</th>\n",
       "      <td>0</td>\n",
       "      <td>v3.8.0.0</td>\n",
       "      <td>0.057604</td>\n",
       "    </tr>\n",
       "    <tr>\n",
       "      <th>4</th>\n",
       "      <td>1</td>\n",
       "      <td>v2.8.0</td>\n",
       "      <td>0.045606</td>\n",
       "    </tr>\n",
       "    <tr>\n",
       "      <th>5</th>\n",
       "      <td>1</td>\n",
       "      <td>v2.9.0</td>\n",
       "      <td>0.071304</td>\n",
       "    </tr>\n",
       "    <tr>\n",
       "      <th>6</th>\n",
       "      <td>1</td>\n",
       "      <td>v3.7.4.0</td>\n",
       "      <td>0.063018</td>\n",
       "    </tr>\n",
       "    <tr>\n",
       "      <th>7</th>\n",
       "      <td>1</td>\n",
       "      <td>v3.8.0.0</td>\n",
       "      <td>0.062848</td>\n",
       "    </tr>\n",
       "  </tbody>\n",
       "</table>\n",
       "</div>"
      ],
      "text/plain": [
       "   experiment_variant   version  purchase\n",
       "0                   0    v2.8.0  0.000993\n",
       "1                   0    v2.9.0  0.074658\n",
       "2                   0  v3.7.4.0  0.059943\n",
       "3                   0  v3.8.0.0  0.057604\n",
       "4                   1    v2.8.0  0.045606\n",
       "5                   1    v2.9.0  0.071304\n",
       "6                   1  v3.7.4.0  0.063018\n",
       "7                   1  v3.8.0.0  0.062848"
      ]
     },
     "execution_count": 5,
     "metadata": {},
     "output_type": "execute_result"
    }
   ],
   "source": [
    "# конверсия (коэффициент покупок), сгруппированная по варианту и версии МП\n",
    "df_conv = df.groupby(['experiment_variant', 'version'], as_index = False).agg({'purchase': 'mean'})\n",
    "df_conv"
   ]
  },
  {
   "cell_type": "markdown",
   "metadata": {},
   "source": [
    "Проверка на статистическую значимость различий между конверсиями."
   ]
  },
  {
   "cell_type": "code",
   "execution_count": 6,
   "metadata": {},
   "outputs": [
    {
     "data": {
      "text/html": [
       "<div>\n",
       "<style scoped>\n",
       "    .dataframe tbody tr th:only-of-type {\n",
       "        vertical-align: middle;\n",
       "    }\n",
       "\n",
       "    .dataframe tbody tr th {\n",
       "        vertical-align: top;\n",
       "    }\n",
       "\n",
       "    .dataframe thead th {\n",
       "        text-align: right;\n",
       "    }\n",
       "</style>\n",
       "<table border=\"1\" class=\"dataframe\">\n",
       "  <thead>\n",
       "    <tr style=\"text-align: right;\">\n",
       "      <th></th>\n",
       "      <th>version</th>\n",
       "      <th>p_value</th>\n",
       "    </tr>\n",
       "  </thead>\n",
       "  <tbody>\n",
       "    <tr>\n",
       "      <th>0</th>\n",
       "      <td>v2.8.0</td>\n",
       "      <td>0.000000</td>\n",
       "    </tr>\n",
       "    <tr>\n",
       "      <th>1</th>\n",
       "      <td>v2.9.0</td>\n",
       "      <td>0.318309</td>\n",
       "    </tr>\n",
       "    <tr>\n",
       "      <th>2</th>\n",
       "      <td>v3.7.4.0</td>\n",
       "      <td>0.556889</td>\n",
       "    </tr>\n",
       "    <tr>\n",
       "      <th>3</th>\n",
       "      <td>v3.8.0.0</td>\n",
       "      <td>0.231869</td>\n",
       "    </tr>\n",
       "  </tbody>\n",
       "</table>\n",
       "</div>"
      ],
      "text/plain": [
       "    version   p_value\n",
       "0    v2.8.0  0.000000\n",
       "1    v2.9.0  0.318309\n",
       "2  v3.7.4.0  0.556889\n",
       "3  v3.8.0.0  0.231869"
      ]
     },
     "execution_count": 6,
     "metadata": {},
     "output_type": "execute_result"
    }
   ],
   "source": [
    "p= [] #список значений p-value\n",
    "for i in df.version.unique():\n",
    "    p.append(stats.ttest_ind(df[(df.experiment_variant == 0) & (df.version == i)].purchase,\\\n",
    "                df[(df.experiment_variant == 1) & (df.version == i)].purchase)[1]) # применение t-test\n",
    "p_version = pd.DataFrame({'version': df.version.unique(), 'p_value': p})\n",
    "p_version"
   ]
  },
  {
   "cell_type": "markdown",
   "metadata": {},
   "source": [
    "Статистически значимые различия обнаружены."
   ]
  },
  {
   "cell_type": "code",
   "execution_count": 7,
   "metadata": {},
   "outputs": [
    {
     "data": {
      "text/plain": [
       "['v2.8.0']"
      ]
     },
     "execution_count": 7,
     "metadata": {},
     "output_type": "execute_result"
    }
   ],
   "source": [
    "anomaly_version = p_version.query('p_value < 0.05').version.to_list()\n",
    "anomaly_version"
   ]
  },
  {
   "cell_type": "code",
   "execution_count": 8,
   "metadata": {},
   "outputs": [
    {
     "data": {
      "text/html": [
       "<div>\n",
       "<style scoped>\n",
       "    .dataframe tbody tr th:only-of-type {\n",
       "        vertical-align: middle;\n",
       "    }\n",
       "\n",
       "    .dataframe tbody tr th {\n",
       "        vertical-align: top;\n",
       "    }\n",
       "\n",
       "    .dataframe thead th {\n",
       "        text-align: right;\n",
       "    }\n",
       "</style>\n",
       "<table border=\"1\" class=\"dataframe\">\n",
       "  <thead>\n",
       "    <tr style=\"text-align: right;\">\n",
       "      <th></th>\n",
       "      <th></th>\n",
       "      <th>uid</th>\n",
       "    </tr>\n",
       "    <tr>\n",
       "      <th>experiment_variant</th>\n",
       "      <th>purchase</th>\n",
       "      <th></th>\n",
       "    </tr>\n",
       "  </thead>\n",
       "  <tbody>\n",
       "    <tr>\n",
       "      <th rowspan=\"2\" valign=\"top\">0</th>\n",
       "      <th>0</th>\n",
       "      <td>41242</td>\n",
       "    </tr>\n",
       "    <tr>\n",
       "      <th>1</th>\n",
       "      <td>41</td>\n",
       "    </tr>\n",
       "    <tr>\n",
       "      <th rowspan=\"2\" valign=\"top\">1</th>\n",
       "      <th>0</th>\n",
       "      <td>39657</td>\n",
       "    </tr>\n",
       "    <tr>\n",
       "      <th>1</th>\n",
       "      <td>1895</td>\n",
       "    </tr>\n",
       "  </tbody>\n",
       "</table>\n",
       "</div>"
      ],
      "text/plain": [
       "                               uid\n",
       "experiment_variant purchase       \n",
       "0                  0         41242\n",
       "                   1            41\n",
       "1                  0         39657\n",
       "                   1          1895"
      ]
     },
     "execution_count": 8,
     "metadata": {},
     "output_type": "execute_result"
    }
   ],
   "source": [
    "df[df.version == anomaly_version[0]].groupby(['experiment_variant','purchase']).agg({'uid' : 'count'})"
   ]
  },
  {
   "cell_type": "markdown",
   "metadata": {},
   "source": [
    "Проведение АА теста с корректировкой."
   ]
  },
  {
   "cell_type": "code",
   "execution_count": 9,
   "metadata": {},
   "outputs": [
    {
     "data": {
      "application/vnd.jupyter.widget-view+json": {
       "model_id": "ef841cb6db3f4cfe86029d458e8a415b",
       "version_major": 2,
       "version_minor": 0
      },
      "text/plain": [
       "HBox(children=(FloatProgress(value=0.0, max=1000.0), HTML(value='')))"
      ]
     },
     "metadata": {},
     "output_type": "display_data"
    },
    {
     "name": "stdout",
     "output_type": "stream",
     "text": [
      "\n"
     ]
    },
    {
     "data": {
      "image/png": "[encoded data removed]",
      "text/plain": [
       "<Figure size 1440x720 with 1 Axes>"
      ]
     },
     "metadata": {},
     "output_type": "display_data"
    },
    {
     "data": {
      "text/plain": [
       "0.052"
      ]
     },
     "execution_count": 9,
     "metadata": {},
     "output_type": "execute_result"
    }
   ],
   "source": [
    "n = 127018 # раземер оригинальной выборки\n",
    "simulations = 1000 # количество симуляций \n",
    "n_s = 1000 # количество наблюдений в подвыборке\n",
    "res = [] # результаты по p-value\n",
    "\n",
    "# Запуск симуляций A/A теста\n",
    "for i in tqdm(range(simulations)):\n",
    "    s1 = df[(df.experiment_variant == 1) & (df.version != anomaly_version[0])].purchase.sample(n_s, replace = False).values\n",
    "    s2 = df[(df.experiment_variant == 0) & (df.version != anomaly_version[0])].purchase.sample(n_s, replace = False).values\n",
    "    res.append(stats.ttest_ind(s1, s2, equal_var = False)[1]) # сохраняем p-value\n",
    "    \n",
    "# Визуализация\n",
    "plt.figure(figsize=(20,10))\n",
    "plt.hist(res, bins = 50)\n",
    "plt.style.use('ggplot')\n",
    "plt.xlabel('pvalues')\n",
    "plt.ylabel('frequency')\n",
    "plt.title(\"Histogram of ttest A/A simulations \")\n",
    "plt.show()\n",
    "\n",
    "# Проверяем, что количество ложноположительных случаев не превышает альфа\n",
    "sum(np.array(res) <0.05) / simulations"
   ]
  },
  {
   "cell_type": "markdown",
   "metadata": {},
   "source": [
    "На основании того, что распределение конверсии в покупку равномерно, FPR = 0.049 > 0.05, можно говорить о том, что сплит-система работает корректно."
   ]
  },
  {
   "cell_type": "markdown",
   "metadata": {},
   "source": [
    "# Вывод\n",
    "\n",
    "АА тест показал, что система сплитования работает некорректно. При применении статистического анализа было выявлено, что в самой поздней версии приложения (v2.8.0) неточно происходит запись совершения покупки."
   ]
  },
  {
   "cell_type": "markdown",
   "metadata": {},
   "source": [
    "# Альтернативное решение задачи "
   ]
  },
  {
   "cell_type": "code",
   "execution_count": 6,
   "metadata": {
    "scrolled": true
   },
   "outputs": [
    {
     "data": {
      "text/html": [
       "<div>\n",
       "<style scoped>\n",
       "    .dataframe tbody tr th:only-of-type {\n",
       "        vertical-align: middle;\n",
       "    }\n",
       "\n",
       "    .dataframe tbody tr th {\n",
       "        vertical-align: top;\n",
       "    }\n",
       "\n",
       "    .dataframe thead th {\n",
       "        text-align: right;\n",
       "    }\n",
       "</style>\n",
       "<table border=\"1\" class=\"dataframe\">\n",
       "  <thead>\n",
       "    <tr style=\"text-align: right;\">\n",
       "      <th></th>\n",
       "      <th>uid</th>\n",
       "      <th>experimentVariant</th>\n",
       "      <th>version</th>\n",
       "      <th>purchase</th>\n",
       "    </tr>\n",
       "  </thead>\n",
       "  <tbody>\n",
       "    <tr>\n",
       "      <th>1</th>\n",
       "      <td>c4ca4238a0b923820dcc509a6f75849b</td>\n",
       "      <td>1</td>\n",
       "      <td>v2.8.0</td>\n",
       "      <td>0</td>\n",
       "    </tr>\n",
       "    <tr>\n",
       "      <th>2</th>\n",
       "      <td>c81e728d9d4c2f636f067f89cc14862c</td>\n",
       "      <td>0</td>\n",
       "      <td>v2.9.0</td>\n",
       "      <td>0</td>\n",
       "    </tr>\n",
       "    <tr>\n",
       "      <th>3</th>\n",
       "      <td>eccbc87e4b5ce2fe28308fd9f2a7baf3</td>\n",
       "      <td>1</td>\n",
       "      <td>v2.9.0</td>\n",
       "      <td>0</td>\n",
       "    </tr>\n",
       "    <tr>\n",
       "      <th>4</th>\n",
       "      <td>a87ff679a2f3e71d9181a67b7542122c</td>\n",
       "      <td>1</td>\n",
       "      <td>v2.8.0</td>\n",
       "      <td>0</td>\n",
       "    </tr>\n",
       "    <tr>\n",
       "      <th>5</th>\n",
       "      <td>e4da3b7fbbce2345d7772b0674a318d5</td>\n",
       "      <td>1</td>\n",
       "      <td>v2.8.0</td>\n",
       "      <td>0</td>\n",
       "    </tr>\n",
       "  </tbody>\n",
       "</table>\n",
       "</div>"
      ],
      "text/plain": [
       "                                uid  experimentVariant version  purchase\n",
       "1  c4ca4238a0b923820dcc509a6f75849b                  1  v2.8.0         0\n",
       "2  c81e728d9d4c2f636f067f89cc14862c                  0  v2.9.0         0\n",
       "3  eccbc87e4b5ce2fe28308fd9f2a7baf3                  1  v2.9.0         0\n",
       "4  a87ff679a2f3e71d9181a67b7542122c                  1  v2.8.0         0\n",
       "5  e4da3b7fbbce2345d7772b0674a318d5                  1  v2.8.0         0"
      ]
     },
     "execution_count": 6,
     "metadata": {},
     "output_type": "execute_result"
    }
   ],
   "source": [
    "from statsmodels.stats.proportion import proportions_ztest\n",
    "df = pd.read_csv('hw_aa.csv', sep=';',index_col=0, decimal=',')\n",
    "df.head()"
   ]
  },
  {
   "cell_type": "code",
   "execution_count": 9,
   "metadata": {},
   "outputs": [
    {
     "name": "stderr",
     "output_type": "stream",
     "text": [
      "/Users/iskander/opt/anaconda3/lib/python3.7/site-packages/statsmodels/stats/weightstats.py:671: RuntimeWarning: invalid value encountered in double_scalars\n",
      "  zstat = value / std_diff\n",
      "/Users/iskander/opt/anaconda3/lib/python3.7/site-packages/ipykernel_launcher.py:33: RuntimeWarning: invalid value encountered in less_equal\n"
     ]
    },
    {
     "data": {
      "text/html": [
       "<div>\n",
       "<style scoped>\n",
       "    .dataframe tbody tr th:only-of-type {\n",
       "        vertical-align: middle;\n",
       "    }\n",
       "\n",
       "    .dataframe tbody tr th {\n",
       "        vertical-align: top;\n",
       "    }\n",
       "\n",
       "    .dataframe thead th {\n",
       "        text-align: right;\n",
       "    }\n",
       "</style>\n",
       "<table border=\"1\" class=\"dataframe\">\n",
       "  <thead>\n",
       "    <tr style=\"text-align: right;\">\n",
       "      <th></th>\n",
       "      <th>group</th>\n",
       "      <th>cr_x</th>\n",
       "      <th>cr_y</th>\n",
       "      <th>fpr_95</th>\n",
       "      <th>is_fpr</th>\n",
       "    </tr>\n",
       "  </thead>\n",
       "  <tbody>\n",
       "    <tr>\n",
       "      <th>0</th>\n",
       "      <td>3.8.2.0</td>\n",
       "      <td>0.066557</td>\n",
       "      <td>0.067081</td>\n",
       "      <td>0.044</td>\n",
       "      <td>True</td>\n",
       "    </tr>\n",
       "    <tr>\n",
       "      <th>1</th>\n",
       "      <td>2.8.0</td>\n",
       "      <td>0.000000</td>\n",
       "      <td>0.045606</td>\n",
       "      <td>1.000</td>\n",
       "      <td>False</td>\n",
       "    </tr>\n",
       "    <tr>\n",
       "      <th>2</th>\n",
       "      <td>2.9.0</td>\n",
       "      <td>0.074658</td>\n",
       "      <td>0.071304</td>\n",
       "      <td>0.044</td>\n",
       "      <td>True</td>\n",
       "    </tr>\n",
       "    <tr>\n",
       "      <th>3</th>\n",
       "      <td>3.7.4.0</td>\n",
       "      <td>0.059943</td>\n",
       "      <td>0.063018</td>\n",
       "      <td>0.038</td>\n",
       "      <td>True</td>\n",
       "    </tr>\n",
       "    <tr>\n",
       "      <th>4</th>\n",
       "      <td>3.8.0.0</td>\n",
       "      <td>0.057604</td>\n",
       "      <td>0.062848</td>\n",
       "      <td>0.046</td>\n",
       "      <td>True</td>\n",
       "    </tr>\n",
       "    <tr>\n",
       "      <th>5</th>\n",
       "      <td>3.8.3.0</td>\n",
       "      <td>0.060475</td>\n",
       "      <td>0.052519</td>\n",
       "      <td>0.000</td>\n",
       "      <td>True</td>\n",
       "    </tr>\n",
       "    <tr>\n",
       "      <th>6</th>\n",
       "      <td>3.8.1.0</td>\n",
       "      <td>0.000000</td>\n",
       "      <td>0.000000</td>\n",
       "      <td>0.000</td>\n",
       "      <td>True</td>\n",
       "    </tr>\n",
       "    <tr>\n",
       "      <th>7</th>\n",
       "      <td>3.7.2.0</td>\n",
       "      <td>0.000000</td>\n",
       "      <td>0.000000</td>\n",
       "      <td>0.000</td>\n",
       "      <td>True</td>\n",
       "    </tr>\n",
       "  </tbody>\n",
       "</table>\n",
       "</div>"
      ],
      "text/plain": [
       "     group      cr_x      cr_y  fpr_95  is_fpr\n",
       "0  3.8.2.0  0.066557  0.067081   0.044    True\n",
       "1    2.8.0  0.000000  0.045606   1.000   False\n",
       "2    2.9.0  0.074658  0.071304   0.044    True\n",
       "3  3.7.4.0  0.059943  0.063018   0.038    True\n",
       "4  3.8.0.0  0.057604  0.062848   0.046    True\n",
       "5  3.8.3.0  0.060475  0.052519   0.000    True\n",
       "6  3.8.1.0  0.000000  0.000000   0.000    True\n",
       "7  3.7.2.0  0.000000  0.000000   0.000    True"
      ]
     },
     "execution_count": 9,
     "metadata": {},
     "output_type": "execute_result"
    }
   ],
   "source": [
    " # основная функция для расчета АА с синтетическими тестами\n",
    "def metric_fpr(df_x, df_y, metric_col, n_sim, n_s_perc, n_s_min, estimator, *args, **kwargs):\n",
    "    stat_res = {\n",
    "        'aa' : {\n",
    "            'pvalue': [], \n",
    "            'mu_x': [], \n",
    "            'mu_y': []\n",
    "        },\n",
    "        'fpr': {\n",
    "            'fpr_95': 0\n",
    "        }\n",
    "    }\n",
    "    \n",
    "    for sim in range(n_sim):\n",
    "        \n",
    "        # по-умолчанию берем %(n_s_perc) наблюдений от исходной, но не более n_s_min\n",
    "        x = df_x[metric_col].sample(int(min(n_s_min, len(df_x) * n_s_perc)), replace = False).values \n",
    "        y = df_y[metric_col].sample(int(min(n_s_min, len(df_y) * n_s_perc)), replace = False).values\n",
    "\n",
    "        if estimator == 'prop':\n",
    "            counts = np.array([sum(x),sum(y)])\n",
    "            nobs = np.array([len(x),len(y)])\n",
    "            stat, pvalue = proportions_ztest(counts, nobs, *args, **kwargs)\n",
    "        \n",
    "        if estimator == 'ttest':\n",
    "            stat, pvalue = stats.ttest_ind(x, y, *args, **kwargs)\n",
    "            \n",
    "        stat_res['aa']['pvalue'].append(pvalue)\n",
    "        stat_res['aa']['mu_x'].append(np.mean(x))\n",
    "        stat_res['aa']['mu_y'].append(np.mean(y))\n",
    "        \n",
    "    \n",
    "    stat_res['fpr']['fpr_95'] =  float(sum(np.array(stat_res['aa']['pvalue']) <= 0.05) / n_sim)\n",
    "    \n",
    "    return stat_res\n",
    "\n",
    "# считаем АА по градациям внутри измерений (группировок)\n",
    "def fpr_report(df, metric_col, variant_col, group_col, n_sim, n_s_perc, n_s_min, estimator, *args, **kwargs):\n",
    "    list_fpr = []\n",
    "    list_group = list(pd.unique(df[group_col]))\n",
    "    \n",
    "    for v in range(len(list_group)):\n",
    "        df_x = df[(df[variant_col] == 0) & (df[group_col] == list_group[v])]\n",
    "        df_y = df[(df[variant_col] == 1) & (df[group_col] == list_group[v])]\n",
    "        \n",
    "        if (len(df_x) == 0) | (len(df_y) == 0):\n",
    "            continue\n",
    "        else:\n",
    "            cr_x = sum(df_x[metric]) / len(df_x)\n",
    "            cr_y = sum(df_y[metric]) / len(df_y)\n",
    "\n",
    "            fpr = {}\n",
    "            fpr = metric_fpr(\n",
    "                df_x = df_x, \n",
    "                df_y = df_y, \n",
    "                metric_col = metric, \n",
    "                n_sim = n_sim,\n",
    "                n_s_perc = n_s_perc,\n",
    "                n_s_min = n_s_min,\n",
    "                estimator = estimator, *args, **kwargs\n",
    "            )\n",
    "            is_fpr = (fpr['fpr']['fpr_95']<=0.05)\n",
    "            list_fpr.append([list_group[v],cr_x,cr_y,fpr['fpr']['fpr_95'],is_fpr])\n",
    "\n",
    "    report = pd.DataFrame.from_records(list_fpr, columns=['group','cr_x','cr_y','fpr_95','is_fpr'])\n",
    "    \n",
    "    return report\n",
    "\n",
    "# параметры\n",
    "n_sim = 500 # количество симуляций\n",
    "n_s_perc = 0.9 # % наблюдений в подвыборках\n",
    "n_s_min = 1000 # но не более константы\n",
    "metric = 'purchase'\n",
    "variant = 'experimentVariant'\n",
    "group = 'version'\n",
    "\n",
    "res = fpr_report(\n",
    "    df = df,\n",
    "    metric_col = metric,\n",
    "    variant_col = variant,\n",
    "    group_col = group,\n",
    "    n_sim = n_sim,\n",
    "    n_s_perc = n_s_perc,\n",
    "    n_s_min = n_s_min,\n",
    "    estimator = 'prop'\n",
    ")\n",
    "\n",
    "res"
   ]
  },
  {
   "cell_type": "markdown",
   "metadata": {},
   "source": [
    "Видим, что проблемы в 2.8.0 версии. По сути мы могли бы итерироваться по другим измерениям и в конце концов нашли бы причину на самом низком уровне"
   ]
  },
  {
   "cell_type": "code",
   "execution_count": 8,
   "metadata": {
    "scrolled": false
   },
   "outputs": [
    {
     "data": {
      "text/html": [
       "<div>\n",
       "<style scoped>\n",
       "    .dataframe tbody tr th:only-of-type {\n",
       "        vertical-align: middle;\n",
       "    }\n",
       "\n",
       "    .dataframe tbody tr th {\n",
       "        vertical-align: top;\n",
       "    }\n",
       "\n",
       "    .dataframe thead th {\n",
       "        text-align: right;\n",
       "    }\n",
       "</style>\n",
       "<table border=\"1\" class=\"dataframe\">\n",
       "  <thead>\n",
       "    <tr style=\"text-align: right;\">\n",
       "      <th></th>\n",
       "      <th>group</th>\n",
       "      <th>cr_x</th>\n",
       "      <th>cr_y</th>\n",
       "      <th>fpr_95</th>\n",
       "      <th>is_fpr</th>\n",
       "    </tr>\n",
       "  </thead>\n",
       "  <tbody>\n",
       "    <tr>\n",
       "      <th>0</th>\n",
       "      <td>ANDROID</td>\n",
       "      <td>0.065903</td>\n",
       "      <td>0.066633</td>\n",
       "      <td>0.038</td>\n",
       "      <td>True</td>\n",
       "    </tr>\n",
       "    <tr>\n",
       "      <th>1</th>\n",
       "      <td>IOS</td>\n",
       "      <td>0.074658</td>\n",
       "      <td>0.071292</td>\n",
       "      <td>0.044</td>\n",
       "      <td>True</td>\n",
       "    </tr>\n",
       "  </tbody>\n",
       "</table>\n",
       "</div>"
      ],
      "text/plain": [
       "     group      cr_x      cr_y  fpr_95  is_fpr\n",
       "0  ANDROID  0.065903  0.066633   0.038    True\n",
       "1      IOS  0.074658  0.071292   0.044    True"
      ]
     },
     "execution_count": 8,
     "metadata": {},
     "output_type": "execute_result"
    }
   ],
   "source": [
    "np.random.seed(1)\n",
    "group = 'operatingSystem'\n",
    "df_fltrd = df[(df['version']!='2.8.0')]\n",
    "\n",
    "res = fpr_report(\n",
    "    df = df_fltrd,\n",
    "    metric_col = metric,\n",
    "    variant_col = variant,\n",
    "    group_col = group,\n",
    "    n_sim = n_sim,\n",
    "    n_s_perc = n_s_perc,\n",
    "    n_s_min = n_s_min,\n",
    "    estimator = 'prop'\n",
    ")\n",
    "\n",
    "res\n"
   ]
  },
  {
   "cell_type": "code",
   "execution_count": null,
   "metadata": {},
   "outputs": [],
   "source": []
  }
 ],
 "metadata": {
  "kernelspec": {
   "display_name": "Python 3",
   "language": "python",
   "name": "python3"
  },
  "language_info": {
   "codemirror_mode": {
    "name": "ipython",
    "version": 3
   },
   "file_extension": ".py",
   "mimetype": "text/x-python",
   "name": "python",
   "nbconvert_exporter": "python",
   "pygments_lexer": "ipython3",
   "version": "3.7.3"
  }
 },
 "nbformat": 4,
 "nbformat_minor": 4
}
